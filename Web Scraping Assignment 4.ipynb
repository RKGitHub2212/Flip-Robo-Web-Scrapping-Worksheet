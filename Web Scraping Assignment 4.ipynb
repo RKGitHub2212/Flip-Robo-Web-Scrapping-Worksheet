{
 "cells": [
  {
   "cell_type": "markdown",
   "id": "c6fe6cb6",
   "metadata": {},
   "source": [
    "Importing Important Libraries for Web Scraping"
   ]
  },
  {
   "cell_type": "code",
   "execution_count": 2,
   "id": "3500f572",
   "metadata": {},
   "outputs": [],
   "source": [
    "import selenium\n",
    "import pandas as pd\n",
    "from selenium import webdriver"
   ]
  },
  {
   "cell_type": "markdown",
   "id": "79e1de4b",
   "metadata": {},
   "source": [
    "Defining Web Driver"
   ]
  },
  {
   "cell_type": "code",
   "execution_count": 3,
   "id": "54c82a8e",
   "metadata": {},
   "outputs": [],
   "source": [
    "driver = webdriver.Chrome(r\"C:\\Users\\KUNAL\\Downloads\\chromedriver_win32\\chromedriver.exe\")"
   ]
  },
  {
   "cell_type": "markdown",
   "id": "39610f67",
   "metadata": {},
   "source": [
    "# 1. Scrape the details of most viewed videos on YouTube from Wikipedia:\n",
    "Url = https://en.wikipedia.org/wiki/List_of_most-viewed_YouTube_videos"
   ]
  },
  {
   "cell_type": "markdown",
   "id": "2f5b72b4",
   "metadata": {},
   "source": [
    "Webpage used for Web Scraping"
   ]
  },
  {
   "cell_type": "code",
   "execution_count": 3,
   "id": "37d9bfc8",
   "metadata": {},
   "outputs": [],
   "source": [
    "driver.get('https://en.wikipedia.org/wiki/List_of_most-viewed_YouTube_videos')"
   ]
  },
  {
   "cell_type": "markdown",
   "id": "02e3e977",
   "metadata": {},
   "source": [
    "Creating Empty List for data to be scraped and scraping data from Webpage"
   ]
  },
  {
   "cell_type": "code",
   "execution_count": 4,
   "id": "0d88dfc3",
   "metadata": {},
   "outputs": [],
   "source": [
    "rank=[]\n",
    "name=[]\n",
    "Artist=[]\n",
    "date=[]\n",
    "views=[]\n",
    "for i in driver.find_elements_by_xpath(\"//table[@class='wikitable sortable jquery-tablesorter']//tbody//tr//td[1]\"):\n",
    "    rank.append(i.text)\n",
    "for j in driver.find_elements_by_xpath(\"//table[@class='wikitable sortable jquery-tablesorter']//tbody//tr//td[2]\"):\n",
    "    name.append(j.text)\n",
    "for k in driver.find_elements_by_xpath(\"//table[@class='wikitable sortable jquery-tablesorter']//tbody//tr//td[3]\"):\n",
    "    Artist.append(k.text)\n",
    "for l in driver.find_elements_by_xpath(\"//table[@class='wikitable sortable jquery-tablesorter']//tbody//tr//td[4]\"):\n",
    "    views.append(l.text)\n",
    "for m in driver.find_elements_by_xpath(\"//table[@class='wikitable sortable jquery-tablesorter']//tbody//tr//td[5]\"):\n",
    "    date.append(m.text)"
   ]
  },
  {
   "cell_type": "markdown",
   "id": "58e4fe6a",
   "metadata": {},
   "source": [
    "Creating Dataframe from Scraped Data"
   ]
  },
  {
   "cell_type": "code",
   "execution_count": 5,
   "id": "bb2512f0",
   "metadata": {},
   "outputs": [],
   "source": [
    "Most_viewed_videos=pd.DataFrame({})"
   ]
  },
  {
   "cell_type": "code",
   "execution_count": 6,
   "id": "8164079d",
   "metadata": {},
   "outputs": [
    {
     "data": {
      "text/html": [
       "<div>\n",
       "<style scoped>\n",
       "    .dataframe tbody tr th:only-of-type {\n",
       "        vertical-align: middle;\n",
       "    }\n",
       "\n",
       "    .dataframe tbody tr th {\n",
       "        vertical-align: top;\n",
       "    }\n",
       "\n",
       "    .dataframe thead th {\n",
       "        text-align: right;\n",
       "    }\n",
       "</style>\n",
       "<table border=\"1\" class=\"dataframe\">\n",
       "  <thead>\n",
       "    <tr style=\"text-align: right;\">\n",
       "      <th></th>\n",
       "      <th>Rank</th>\n",
       "      <th>Name</th>\n",
       "      <th>Artist</th>\n",
       "      <th>Uploaded date</th>\n",
       "      <th>Views(in billions)</th>\n",
       "    </tr>\n",
       "  </thead>\n",
       "  <tbody>\n",
       "    <tr>\n",
       "      <th>0</th>\n",
       "      <td>1.</td>\n",
       "      <td>\"Baby Shark Dance\"[23]</td>\n",
       "      <td>Pinkfong Baby Shark - Kids' Songs &amp; Stories</td>\n",
       "      <td>June 17, 2016</td>\n",
       "      <td>9.63</td>\n",
       "    </tr>\n",
       "    <tr>\n",
       "      <th>1</th>\n",
       "      <td>2.</td>\n",
       "      <td>\"Despacito\"[25]</td>\n",
       "      <td>Luis Fonsi</td>\n",
       "      <td>January 12, 2017</td>\n",
       "      <td>7.62</td>\n",
       "    </tr>\n",
       "    <tr>\n",
       "      <th>2</th>\n",
       "      <td>3.</td>\n",
       "      <td>\"Johny Johny Yes Papa\"[26]</td>\n",
       "      <td>LooLoo Kids</td>\n",
       "      <td>October 8, 2016</td>\n",
       "      <td>5.88</td>\n",
       "    </tr>\n",
       "    <tr>\n",
       "      <th>3</th>\n",
       "      <td>4.</td>\n",
       "      <td>\"Shape of You\"[27]</td>\n",
       "      <td>Ed Sheeran</td>\n",
       "      <td>January 30, 2017</td>\n",
       "      <td>5.52</td>\n",
       "    </tr>\n",
       "    <tr>\n",
       "      <th>4</th>\n",
       "      <td>5.</td>\n",
       "      <td>\"See You Again\"[28]</td>\n",
       "      <td>Wiz Khalifa</td>\n",
       "      <td>April 6, 2015</td>\n",
       "      <td>5.32</td>\n",
       "    </tr>\n",
       "    <tr>\n",
       "      <th>5</th>\n",
       "      <td>6.</td>\n",
       "      <td>\"Bath Song\"[31]</td>\n",
       "      <td>Cocomelon – Nursery Rhymes</td>\n",
       "      <td>May 2, 2018</td>\n",
       "      <td>4.62</td>\n",
       "    </tr>\n",
       "    <tr>\n",
       "      <th>6</th>\n",
       "      <td>7.</td>\n",
       "      <td>\"Learning Colors – Colorful Eggs on a Farm\"[32]</td>\n",
       "      <td>Miroshka TV</td>\n",
       "      <td>February 27, 2018</td>\n",
       "      <td>4.53</td>\n",
       "    </tr>\n",
       "    <tr>\n",
       "      <th>7</th>\n",
       "      <td>8.</td>\n",
       "      <td>\"Masha and the Bear – Recipe for Disaster\"[33]</td>\n",
       "      <td>Get Movies</td>\n",
       "      <td>January 31, 2012</td>\n",
       "      <td>4.47</td>\n",
       "    </tr>\n",
       "    <tr>\n",
       "      <th>8</th>\n",
       "      <td>9.</td>\n",
       "      <td>\"Uptown Funk\"[34]</td>\n",
       "      <td>Mark Ronson</td>\n",
       "      <td>November 19, 2014</td>\n",
       "      <td>4.35</td>\n",
       "    </tr>\n",
       "    <tr>\n",
       "      <th>9</th>\n",
       "      <td>10.</td>\n",
       "      <td>\"Phonics Song with Two Words\"[35]</td>\n",
       "      <td>ChuChu TV</td>\n",
       "      <td>March 6, 2014</td>\n",
       "      <td>4.28</td>\n",
       "    </tr>\n",
       "    <tr>\n",
       "      <th>10</th>\n",
       "      <td>11.</td>\n",
       "      <td>\"Gangnam Style\"[36]</td>\n",
       "      <td>Psy</td>\n",
       "      <td>July 15, 2012</td>\n",
       "      <td>4.24</td>\n",
       "    </tr>\n",
       "    <tr>\n",
       "      <th>11</th>\n",
       "      <td>12.</td>\n",
       "      <td>\"Dame Tu Cosita\"[38]</td>\n",
       "      <td>El Chombo</td>\n",
       "      <td>April 5, 2018</td>\n",
       "      <td>3.69</td>\n",
       "    </tr>\n",
       "    <tr>\n",
       "      <th>12</th>\n",
       "      <td>13.</td>\n",
       "      <td>\"Sugar\"[39]</td>\n",
       "      <td>Maroon 5</td>\n",
       "      <td>January 14, 2015</td>\n",
       "      <td>3.59</td>\n",
       "    </tr>\n",
       "    <tr>\n",
       "      <th>13</th>\n",
       "      <td>14.</td>\n",
       "      <td>\"Sorry\"[40]</td>\n",
       "      <td>Justin Bieber</td>\n",
       "      <td>October 22, 2015</td>\n",
       "      <td>3.48</td>\n",
       "    </tr>\n",
       "    <tr>\n",
       "      <th>14</th>\n",
       "      <td>15.</td>\n",
       "      <td>\"Roar\"[41]</td>\n",
       "      <td>Katy Perry</td>\n",
       "      <td>September 5, 2013</td>\n",
       "      <td>3.46</td>\n",
       "    </tr>\n",
       "    <tr>\n",
       "      <th>15</th>\n",
       "      <td>16.</td>\n",
       "      <td>\"Counting Stars\"[42]</td>\n",
       "      <td>OneRepublic</td>\n",
       "      <td>May 31, 2013</td>\n",
       "      <td>3.44</td>\n",
       "    </tr>\n",
       "    <tr>\n",
       "      <th>16</th>\n",
       "      <td>17.</td>\n",
       "      <td>\"Thinking Out Loud\"[43]</td>\n",
       "      <td>Ed Sheeran</td>\n",
       "      <td>October 7, 2014</td>\n",
       "      <td>3.35</td>\n",
       "    </tr>\n",
       "    <tr>\n",
       "      <th>17</th>\n",
       "      <td>18.</td>\n",
       "      <td>\"Wheels on the Bus\"[44]</td>\n",
       "      <td>Cocomelon – Nursery Rhymes</td>\n",
       "      <td>May 24, 2018</td>\n",
       "      <td>3.34</td>\n",
       "    </tr>\n",
       "    <tr>\n",
       "      <th>18</th>\n",
       "      <td>19.</td>\n",
       "      <td>\"Faded\"[45]</td>\n",
       "      <td>Alan Walker</td>\n",
       "      <td>December 3, 2015</td>\n",
       "      <td>3.17</td>\n",
       "    </tr>\n",
       "    <tr>\n",
       "      <th>19</th>\n",
       "      <td>20.</td>\n",
       "      <td>\"Dark Horse\"[46]</td>\n",
       "      <td>Katy Perry</td>\n",
       "      <td>February 20, 2014</td>\n",
       "      <td>3.17</td>\n",
       "    </tr>\n",
       "  </tbody>\n",
       "</table>\n",
       "</div>"
      ],
      "text/plain": [
       "   Rank                                             Name  \\\n",
       "0    1.                           \"Baby Shark Dance\"[23]   \n",
       "1    2.                                  \"Despacito\"[25]   \n",
       "2    3.                       \"Johny Johny Yes Papa\"[26]   \n",
       "3    4.                               \"Shape of You\"[27]   \n",
       "4    5.                              \"See You Again\"[28]   \n",
       "5    6.                                  \"Bath Song\"[31]   \n",
       "6    7.  \"Learning Colors – Colorful Eggs on a Farm\"[32]   \n",
       "7    8.   \"Masha and the Bear – Recipe for Disaster\"[33]   \n",
       "8    9.                                \"Uptown Funk\"[34]   \n",
       "9   10.                \"Phonics Song with Two Words\"[35]   \n",
       "10  11.                              \"Gangnam Style\"[36]   \n",
       "11  12.                             \"Dame Tu Cosita\"[38]   \n",
       "12  13.                                      \"Sugar\"[39]   \n",
       "13  14.                                      \"Sorry\"[40]   \n",
       "14  15.                                       \"Roar\"[41]   \n",
       "15  16.                             \"Counting Stars\"[42]   \n",
       "16  17.                          \"Thinking Out Loud\"[43]   \n",
       "17  18.                          \"Wheels on the Bus\"[44]   \n",
       "18  19.                                      \"Faded\"[45]   \n",
       "19  20.                                 \"Dark Horse\"[46]   \n",
       "\n",
       "                                         Artist      Uploaded date  \\\n",
       "0   Pinkfong Baby Shark - Kids' Songs & Stories      June 17, 2016   \n",
       "1                                    Luis Fonsi   January 12, 2017   \n",
       "2                                   LooLoo Kids    October 8, 2016   \n",
       "3                                    Ed Sheeran   January 30, 2017   \n",
       "4                                   Wiz Khalifa      April 6, 2015   \n",
       "5                    Cocomelon – Nursery Rhymes        May 2, 2018   \n",
       "6                                   Miroshka TV  February 27, 2018   \n",
       "7                                    Get Movies   January 31, 2012   \n",
       "8                                   Mark Ronson  November 19, 2014   \n",
       "9                                     ChuChu TV      March 6, 2014   \n",
       "10                                          Psy      July 15, 2012   \n",
       "11                                    El Chombo      April 5, 2018   \n",
       "12                                     Maroon 5   January 14, 2015   \n",
       "13                                Justin Bieber   October 22, 2015   \n",
       "14                                   Katy Perry  September 5, 2013   \n",
       "15                                  OneRepublic       May 31, 2013   \n",
       "16                                   Ed Sheeran    October 7, 2014   \n",
       "17                   Cocomelon – Nursery Rhymes       May 24, 2018   \n",
       "18                                  Alan Walker   December 3, 2015   \n",
       "19                                   Katy Perry  February 20, 2014   \n",
       "\n",
       "   Views(in billions)  \n",
       "0                9.63  \n",
       "1                7.62  \n",
       "2                5.88  \n",
       "3                5.52  \n",
       "4                5.32  \n",
       "5                4.62  \n",
       "6                4.53  \n",
       "7                4.47  \n",
       "8                4.35  \n",
       "9                4.28  \n",
       "10               4.24  \n",
       "11               3.69  \n",
       "12               3.59  \n",
       "13               3.48  \n",
       "14               3.46  \n",
       "15               3.44  \n",
       "16               3.35  \n",
       "17               3.34  \n",
       "18               3.17  \n",
       "19               3.17  "
      ]
     },
     "execution_count": 6,
     "metadata": {},
     "output_type": "execute_result"
    }
   ],
   "source": [
    "Most_viewed_videos['Rank']=rank[:20]\n",
    "Most_viewed_videos['Name']=name[:20]\n",
    "Most_viewed_videos['Artist']=Artist[:20]\n",
    "Most_viewed_videos['Uploaded date']=date[:20]\n",
    "Most_viewed_videos['Views(in billions)']=views[:20]\n",
    "Most_viewed_videos"
   ]
  },
  {
   "cell_type": "markdown",
   "id": "18332fb5",
   "metadata": {},
   "source": [
    "# 2. Scrape the details team India’s international fixtures from bcci.tv.\n",
    "Url = https://www.bcci.tv"
   ]
  },
  {
   "cell_type": "markdown",
   "id": "cda54b63",
   "metadata": {},
   "source": [
    "Webpage for ewb scraping"
   ]
  },
  {
   "cell_type": "code",
   "execution_count": 7,
   "id": "c83cd523",
   "metadata": {},
   "outputs": [],
   "source": [
    "driver.get('https://www.bcci.tv/international/fixtures')"
   ]
  },
  {
   "cell_type": "markdown",
   "id": "dac63f62",
   "metadata": {},
   "source": [
    "Creating empty list and scraping data from Webpage"
   ]
  },
  {
   "cell_type": "code",
   "execution_count": 8,
   "id": "ec3455ad",
   "metadata": {},
   "outputs": [],
   "source": [
    "Match_title=[]\n",
    "series=[]\n",
    "place=[]\n",
    "date=[]\n",
    "time=[]\n",
    "for i in driver.find_elements_by_xpath(\"//span[@class='u-unskewed-text fixture__tournament-label u-truncated']\"):\n",
    "    Match_title.append(i.text)\n",
    "for i in driver.find_elements_by_xpath(\"//span[@class='u-unskewed-text fixture__format']\"):\n",
    "    series.append(i.text)\n",
    "for i in driver.find_elements_by_xpath(\"//p[@class='fixture__additional-info']//span\"):\n",
    "    place.append(i.text)\n",
    "for i in driver.find_elements_by_xpath(\"//span[@class='fixture__datetime tablet-only']\"):\n",
    "    date.append(i.text[:-10])\n",
    "    time.append(i.text[-9:])"
   ]
  },
  {
   "cell_type": "markdown",
   "id": "e2b7070e",
   "metadata": {},
   "source": [
    "Creating Dataframe using Scraped data from webpage"
   ]
  },
  {
   "cell_type": "code",
   "execution_count": 9,
   "id": "25de9599",
   "metadata": {},
   "outputs": [],
   "source": [
    "Fixture = pd.DataFrame()"
   ]
  },
  {
   "cell_type": "code",
   "execution_count": 14,
   "id": "65a99a93",
   "metadata": {},
   "outputs": [
    {
     "data": {
      "text/html": [
       "<div>\n",
       "<style scoped>\n",
       "    .dataframe tbody tr th:only-of-type {\n",
       "        vertical-align: middle;\n",
       "    }\n",
       "\n",
       "    .dataframe tbody tr th {\n",
       "        vertical-align: top;\n",
       "    }\n",
       "\n",
       "    .dataframe thead th {\n",
       "        text-align: right;\n",
       "    }\n",
       "</style>\n",
       "<table border=\"1\" class=\"dataframe\">\n",
       "  <thead>\n",
       "    <tr style=\"text-align: right;\">\n",
       "      <th></th>\n",
       "      <th>Match_title</th>\n",
       "      <th>series</th>\n",
       "      <th>place</th>\n",
       "      <th>date</th>\n",
       "      <th>time</th>\n",
       "    </tr>\n",
       "  </thead>\n",
       "  <tbody>\n",
       "    <tr>\n",
       "      <th>0</th>\n",
       "      <td>INDIA V NEW ZEALAND 2021</td>\n",
       "      <td>T20I</td>\n",
       "      <td>Sawai Mansingh Stadium, Jaipur</td>\n",
       "      <td></td>\n",
       "      <td></td>\n",
       "    </tr>\n",
       "    <tr>\n",
       "      <th>1</th>\n",
       "      <td>INDIA V NEW ZEALAND 2021</td>\n",
       "      <td>T20I</td>\n",
       "      <td>JSCA International Stadium Complex, Ranchi</td>\n",
       "      <td></td>\n",
       "      <td></td>\n",
       "    </tr>\n",
       "    <tr>\n",
       "      <th>2</th>\n",
       "      <td>INDIA V NEW ZEALAND 2021</td>\n",
       "      <td>T20I</td>\n",
       "      <td>Eden Gardens, Kolkata</td>\n",
       "      <td></td>\n",
       "      <td></td>\n",
       "    </tr>\n",
       "    <tr>\n",
       "      <th>3</th>\n",
       "      <td>INDIA V NEW ZEALAND 2021</td>\n",
       "      <td>TEST</td>\n",
       "      <td>Green Park, Kanpur</td>\n",
       "      <td></td>\n",
       "      <td></td>\n",
       "    </tr>\n",
       "    <tr>\n",
       "      <th>4</th>\n",
       "      <td>INDIA V NEW ZEALAND 2021</td>\n",
       "      <td>TEST</td>\n",
       "      <td>Wankhede Stadium, Mumbai</td>\n",
       "      <td></td>\n",
       "      <td></td>\n",
       "    </tr>\n",
       "    <tr>\n",
       "      <th>5</th>\n",
       "      <td>INDIA V WEST INDIES 2022</td>\n",
       "      <td>ODI</td>\n",
       "      <td>Narendra Modi Stadium, Ahmedabad</td>\n",
       "      <td></td>\n",
       "      <td></td>\n",
       "    </tr>\n",
       "    <tr>\n",
       "      <th>6</th>\n",
       "      <td>INDIA V WEST INDIES 2022</td>\n",
       "      <td>ODI</td>\n",
       "      <td>Sawai Mansingh Stadium, Jaipur</td>\n",
       "      <td></td>\n",
       "      <td></td>\n",
       "    </tr>\n",
       "    <tr>\n",
       "      <th>7</th>\n",
       "      <td>INDIA V WEST INDIES 2022</td>\n",
       "      <td>ODI</td>\n",
       "      <td>Eden Gardens, Kolkata</td>\n",
       "      <td></td>\n",
       "      <td></td>\n",
       "    </tr>\n",
       "    <tr>\n",
       "      <th>8</th>\n",
       "      <td>INDIA V WEST INDIES 2022</td>\n",
       "      <td>T20I</td>\n",
       "      <td>Barabati Stadium, Cuttack</td>\n",
       "      <td></td>\n",
       "      <td></td>\n",
       "    </tr>\n",
       "    <tr>\n",
       "      <th>9</th>\n",
       "      <td>INDIA V WEST INDIES 2022</td>\n",
       "      <td>T20I</td>\n",
       "      <td>ACA-VDCA Stadium, Visakhapatnam</td>\n",
       "      <td></td>\n",
       "      <td></td>\n",
       "    </tr>\n",
       "  </tbody>\n",
       "</table>\n",
       "</div>"
      ],
      "text/plain": [
       "                Match_title series  \\\n",
       "0  INDIA V NEW ZEALAND 2021   T20I   \n",
       "1  INDIA V NEW ZEALAND 2021   T20I   \n",
       "2  INDIA V NEW ZEALAND 2021   T20I   \n",
       "3  INDIA V NEW ZEALAND 2021   TEST   \n",
       "4  INDIA V NEW ZEALAND 2021   TEST   \n",
       "5  INDIA V WEST INDIES 2022    ODI   \n",
       "6  INDIA V WEST INDIES 2022    ODI   \n",
       "7  INDIA V WEST INDIES 2022    ODI   \n",
       "8  INDIA V WEST INDIES 2022   T20I   \n",
       "9  INDIA V WEST INDIES 2022   T20I   \n",
       "\n",
       "                                        place date time  \n",
       "0              Sawai Mansingh Stadium, Jaipur            \n",
       "1  JSCA International Stadium Complex, Ranchi            \n",
       "2                       Eden Gardens, Kolkata            \n",
       "3                          Green Park, Kanpur            \n",
       "4                    Wankhede Stadium, Mumbai            \n",
       "5            Narendra Modi Stadium, Ahmedabad            \n",
       "6              Sawai Mansingh Stadium, Jaipur            \n",
       "7                       Eden Gardens, Kolkata            \n",
       "8                   Barabati Stadium, Cuttack            \n",
       "9             ACA-VDCA Stadium, Visakhapatnam            "
      ]
     },
     "execution_count": 14,
     "metadata": {},
     "output_type": "execute_result"
    }
   ],
   "source": [
    "Fixture['Match_title']=Match_title\n",
    "Fixture['series']=series\n",
    "Fixture['place']=place\n",
    "Fixture['date']=date\n",
    "Fixture['time']=time\n",
    "Fixture"
   ]
  },
  {
   "cell_type": "markdown",
   "id": "c651a12d",
   "metadata": {},
   "source": [
    "# 3. Scrape the details of selenium exception from guru99.com.\n",
    "Url = https://www.guru99.com"
   ]
  },
  {
   "cell_type": "markdown",
   "id": "bb0dfec4",
   "metadata": {},
   "source": [
    "Webpage for web csraping"
   ]
  },
  {
   "cell_type": "code",
   "execution_count": 15,
   "id": "cb8dd7ac",
   "metadata": {},
   "outputs": [],
   "source": [
    "driver.get('https://www.guru99.com/')"
   ]
  },
  {
   "cell_type": "markdown",
   "id": "834810fd",
   "metadata": {},
   "source": [
    "Getting the link for selenium exeption handling article"
   ]
  },
  {
   "cell_type": "code",
   "execution_count": 16,
   "id": "6d0a8303",
   "metadata": {},
   "outputs": [
    {
     "data": {
      "text/plain": [
       "['https://www.guru99.com/selenium-tutorial.html']"
      ]
     },
     "execution_count": 16,
     "metadata": {},
     "output_type": "execute_result"
    }
   ],
   "source": [
    "sel=[]\n",
    "s=driver.find_element_by_xpath(\"//ul[@id='java_technologies']//li[3]/a\")\n",
    "sel.append(s.get_attribute(\"href\"))\n",
    "sel"
   ]
  },
  {
   "cell_type": "code",
   "execution_count": 17,
   "id": "2e0ff0bd",
   "metadata": {},
   "outputs": [],
   "source": [
    "for i in sel:\n",
    "    driver.get(i)"
   ]
  },
  {
   "cell_type": "code",
   "execution_count": 18,
   "id": "bea35dbd",
   "metadata": {},
   "outputs": [
    {
     "data": {
      "text/plain": [
       "['https://www.guru99.com/exception-handling-selenium.html']"
      ]
     },
     "execution_count": 18,
     "metadata": {},
     "output_type": "execute_result"
    }
   ],
   "source": [
    "selm=[]\n",
    "s=driver.find_element_by_xpath(\"//a[@title='Selenium Exception Handling (Common Exceptions List)']\")\n",
    "selm.append(s.get_attribute('href'))\n",
    "selm"
   ]
  },
  {
   "cell_type": "code",
   "execution_count": 19,
   "id": "f4cf2319",
   "metadata": {},
   "outputs": [],
   "source": [
    "for i in selm:\n",
    "    driver.get(i)"
   ]
  },
  {
   "cell_type": "markdown",
   "id": "c5c288bd",
   "metadata": {},
   "source": [
    "Creating empty list and scraping data"
   ]
  },
  {
   "cell_type": "code",
   "execution_count": 20,
   "id": "f4798a10",
   "metadata": {},
   "outputs": [],
   "source": [
    "name=[]\n",
    "desc=[]\n",
    "for i in driver.find_elements_by_xpath(\"//table[@class='table table-striped']//tbody//tr//td[1]\"):\n",
    "    name.append(i.text)\n",
    "for j in driver.find_elements_by_xpath(\"//table[@class='table table-striped']//tbody//tr//td[2]\"):\n",
    "    desc.append(j.text)"
   ]
  },
  {
   "cell_type": "markdown",
   "id": "cb943a4c",
   "metadata": {},
   "source": [
    "Creating Dataframe using Scraped Data"
   ]
  },
  {
   "cell_type": "code",
   "execution_count": 21,
   "id": "76222bd4",
   "metadata": {},
   "outputs": [],
   "source": [
    "Selenium_exp=pd.DataFrame({})"
   ]
  },
  {
   "cell_type": "code",
   "execution_count": 30,
   "id": "307606e7",
   "metadata": {},
   "outputs": [
    {
     "data": {
      "text/html": [
       "<div>\n",
       "<style scoped>\n",
       "    .dataframe tbody tr th:only-of-type {\n",
       "        vertical-align: middle;\n",
       "    }\n",
       "\n",
       "    .dataframe tbody tr th {\n",
       "        vertical-align: top;\n",
       "    }\n",
       "\n",
       "    .dataframe thead th {\n",
       "        text-align: right;\n",
       "    }\n",
       "</style>\n",
       "<table border=\"1\" class=\"dataframe\">\n",
       "  <thead>\n",
       "    <tr style=\"text-align: right;\">\n",
       "      <th></th>\n",
       "      <th>Exception_name</th>\n",
       "      <th>Exception_Description</th>\n",
       "    </tr>\n",
       "  </thead>\n",
       "  <tbody>\n",
       "    <tr>\n",
       "      <th>0</th>\n",
       "      <td>ElementNotSelectableException</td>\n",
       "      <td>This Selenium exception occurs when an element...</td>\n",
       "    </tr>\n",
       "    <tr>\n",
       "      <th>1</th>\n",
       "      <td>NoSuchElementException</td>\n",
       "      <td>This Exception occurs if an element could not ...</td>\n",
       "    </tr>\n",
       "    <tr>\n",
       "      <th>2</th>\n",
       "      <td>NoSuchFrameException</td>\n",
       "      <td>This Exception occurs if the frame target to b...</td>\n",
       "    </tr>\n",
       "    <tr>\n",
       "      <th>3</th>\n",
       "      <td>NoAlertPresentException</td>\n",
       "      <td>This Exception occurs when you switch to no pr...</td>\n",
       "    </tr>\n",
       "    <tr>\n",
       "      <th>4</th>\n",
       "      <td>NoSuchWindowException</td>\n",
       "      <td>This Exception occurs if the window target to ...</td>\n",
       "    </tr>\n",
       "    <tr>\n",
       "      <th>5</th>\n",
       "      <td>StaleElementReferenceException</td>\n",
       "      <td>This Selenium exception occurs happens when th...</td>\n",
       "    </tr>\n",
       "    <tr>\n",
       "      <th>6</th>\n",
       "      <td>SessionNotFoundException</td>\n",
       "      <td>The WebDriver is acting after you quit the bro...</td>\n",
       "    </tr>\n",
       "    <tr>\n",
       "      <th>7</th>\n",
       "      <td>TimeoutException</td>\n",
       "      <td>Thrown when there is not enough time for a com...</td>\n",
       "    </tr>\n",
       "    <tr>\n",
       "      <th>8</th>\n",
       "      <td>WebDriverException</td>\n",
       "      <td>This Exception takes place when the WebDriver ...</td>\n",
       "    </tr>\n",
       "    <tr>\n",
       "      <th>9</th>\n",
       "      <td>ConnectionClosedException</td>\n",
       "      <td>This type of Exception takes place when there ...</td>\n",
       "    </tr>\n",
       "    <tr>\n",
       "      <th>10</th>\n",
       "      <td>ElementClickInterceptedException</td>\n",
       "      <td>The command may not be completed as the elemen...</td>\n",
       "    </tr>\n",
       "    <tr>\n",
       "      <th>11</th>\n",
       "      <td>ElementNotInteractableException</td>\n",
       "      <td>This Selenium exception is thrown when any ele...</td>\n",
       "    </tr>\n",
       "    <tr>\n",
       "      <th>12</th>\n",
       "      <td>ErrorInResponseException</td>\n",
       "      <td>This happens while interacting with the Firefo...</td>\n",
       "    </tr>\n",
       "    <tr>\n",
       "      <th>13</th>\n",
       "      <td>ErrorHandler.UnknownServerException</td>\n",
       "      <td>Exception is used as a placeholder in case if ...</td>\n",
       "    </tr>\n",
       "    <tr>\n",
       "      <th>14</th>\n",
       "      <td>ImeActivationFailedException</td>\n",
       "      <td>This expectation will occur when IME engine ac...</td>\n",
       "    </tr>\n",
       "    <tr>\n",
       "      <th>15</th>\n",
       "      <td>ImeNotAvailableException</td>\n",
       "      <td>It takes place when IME support is unavailable.</td>\n",
       "    </tr>\n",
       "    <tr>\n",
       "      <th>16</th>\n",
       "      <td>InsecureCertificateException</td>\n",
       "      <td>Navigation made the user agent to hit a certif...</td>\n",
       "    </tr>\n",
       "    <tr>\n",
       "      <th>17</th>\n",
       "      <td>InvalidArgumentException</td>\n",
       "      <td>It occurs when an argument does not belong to ...</td>\n",
       "    </tr>\n",
       "    <tr>\n",
       "      <th>18</th>\n",
       "      <td>InvalidCookieDomainException</td>\n",
       "      <td>This happens when you try to add a cookie unde...</td>\n",
       "    </tr>\n",
       "    <tr>\n",
       "      <th>19</th>\n",
       "      <td>InvalidCoordinatesException</td>\n",
       "      <td>This type of Exception matches an interacting ...</td>\n",
       "    </tr>\n",
       "  </tbody>\n",
       "</table>\n",
       "</div>"
      ],
      "text/plain": [
       "                         Exception_name  \\\n",
       "0         ElementNotSelectableException   \n",
       "1                NoSuchElementException   \n",
       "2                  NoSuchFrameException   \n",
       "3               NoAlertPresentException   \n",
       "4                 NoSuchWindowException   \n",
       "5        StaleElementReferenceException   \n",
       "6              SessionNotFoundException   \n",
       "7                      TimeoutException   \n",
       "8                    WebDriverException   \n",
       "9             ConnectionClosedException   \n",
       "10     ElementClickInterceptedException   \n",
       "11      ElementNotInteractableException   \n",
       "12             ErrorInResponseException   \n",
       "13  ErrorHandler.UnknownServerException   \n",
       "14         ImeActivationFailedException   \n",
       "15             ImeNotAvailableException   \n",
       "16         InsecureCertificateException   \n",
       "17             InvalidArgumentException   \n",
       "18         InvalidCookieDomainException   \n",
       "19          InvalidCoordinatesException   \n",
       "\n",
       "                                Exception_Description  \n",
       "0   This Selenium exception occurs when an element...  \n",
       "1   This Exception occurs if an element could not ...  \n",
       "2   This Exception occurs if the frame target to b...  \n",
       "3   This Exception occurs when you switch to no pr...  \n",
       "4   This Exception occurs if the window target to ...  \n",
       "5   This Selenium exception occurs happens when th...  \n",
       "6   The WebDriver is acting after you quit the bro...  \n",
       "7   Thrown when there is not enough time for a com...  \n",
       "8   This Exception takes place when the WebDriver ...  \n",
       "9   This type of Exception takes place when there ...  \n",
       "10  The command may not be completed as the elemen...  \n",
       "11  This Selenium exception is thrown when any ele...  \n",
       "12  This happens while interacting with the Firefo...  \n",
       "13  Exception is used as a placeholder in case if ...  \n",
       "14  This expectation will occur when IME engine ac...  \n",
       "15    It takes place when IME support is unavailable.  \n",
       "16  Navigation made the user agent to hit a certif...  \n",
       "17  It occurs when an argument does not belong to ...  \n",
       "18  This happens when you try to add a cookie unde...  \n",
       "19  This type of Exception matches an interacting ...  "
      ]
     },
     "execution_count": 30,
     "metadata": {},
     "output_type": "execute_result"
    }
   ],
   "source": [
    "Selenium_exp['Exception_name']=name[1:]\n",
    "Selenium_exp['Exception_Description']=desc[1:]\n",
    "Selenium_exp[:20]"
   ]
  },
  {
   "cell_type": "markdown",
   "id": "2823a572",
   "metadata": {},
   "source": [
    "# 4. Scrape the details of State-wise GDP of India from statisticstime.com.\n",
    "Url = http://statisticstimes.com"
   ]
  },
  {
   "cell_type": "markdown",
   "id": "3b548e20",
   "metadata": {},
   "source": [
    "Webpage for web scraping"
   ]
  },
  {
   "cell_type": "code",
   "execution_count": 31,
   "id": "a340777d",
   "metadata": {},
   "outputs": [],
   "source": [
    "driver.get('http://statisticstimes.com/')"
   ]
  },
  {
   "cell_type": "markdown",
   "id": "580f4d05",
   "metadata": {},
   "source": [
    "Moving to economy page and select india's state wise GDP"
   ]
  },
  {
   "cell_type": "code",
   "execution_count": 32,
   "id": "df2d7028",
   "metadata": {},
   "outputs": [
    {
     "data": {
      "text/plain": [
       "['https://www.statisticstimes.com/economy/india-statistics.php']"
      ]
     },
     "execution_count": 32,
     "metadata": {},
     "output_type": "execute_result"
    }
   ],
   "source": [
    "c1=[]\n",
    "c= driver.find_element_by_xpath(\"//div[@class='dropdown-content']//a[3]\")\n",
    "c1.append(c.get_attribute(\"href\"))\n",
    "c1"
   ]
  },
  {
   "cell_type": "code",
   "execution_count": 33,
   "id": "cb81834c",
   "metadata": {},
   "outputs": [],
   "source": [
    "for i in c1:\n",
    "    driver.get(i)"
   ]
  },
  {
   "cell_type": "markdown",
   "id": "76c7e21d",
   "metadata": {},
   "source": [
    "Creating empty list and scraping data"
   ]
  },
  {
   "cell_type": "code",
   "execution_count": 34,
   "id": "662f8091",
   "metadata": {},
   "outputs": [],
   "source": [
    "rank=[]\n",
    "state=[]\n",
    "gsdp_19=[]\n",
    "gsdp_18=[]\n",
    "share=[]\n",
    "gdp=[]\n",
    "for i in driver.find_elements_by_xpath(\"//table[@id='table_id']//tbody//tr//td[1]\"):\n",
    "    rank.append(i.text)\n",
    "for j in driver.find_elements_by_xpath(\"//table[@id='table_id']//tbody//tr//td[2]\"):\n",
    "    state.append(j.text)\n",
    "for k in driver.find_elements_by_xpath(\"//table[@id='table_id']//tbody//tr//td[3]\"):\n",
    "    gsdp_19.append(k.text)\n",
    "for l in driver.find_elements_by_xpath(\"//table[@id='table_id']//tbody//tr//td[4]\"):\n",
    "    gsdp_18.append(l.text)\n",
    "for m in driver.find_elements_by_xpath(\"//table[@id='table_id']//tbody//tr//td[5]\"):\n",
    "    share.append(m.text)\n",
    "for n in driver.find_elements_by_xpath(\"//table[@id='table_id']//tbody//tr//td[6]\"):\n",
    "    gdp.append(n.text)"
   ]
  },
  {
   "cell_type": "markdown",
   "id": "1a15cbc7",
   "metadata": {},
   "source": [
    "Creating Dataframe from scraped data"
   ]
  },
  {
   "cell_type": "code",
   "execution_count": 35,
   "id": "89f2f192",
   "metadata": {},
   "outputs": [],
   "source": [
    "State_wise_GDP_of_India=pd.DataFrame({})"
   ]
  },
  {
   "cell_type": "code",
   "execution_count": 36,
   "id": "dfe71eaf",
   "metadata": {},
   "outputs": [
    {
     "data": {
      "text/html": [
       "<div>\n",
       "<style scoped>\n",
       "    .dataframe tbody tr th:only-of-type {\n",
       "        vertical-align: middle;\n",
       "    }\n",
       "\n",
       "    .dataframe tbody tr th {\n",
       "        vertical-align: top;\n",
       "    }\n",
       "\n",
       "    .dataframe thead th {\n",
       "        text-align: right;\n",
       "    }\n",
       "</style>\n",
       "<table border=\"1\" class=\"dataframe\">\n",
       "  <thead>\n",
       "    <tr style=\"text-align: right;\">\n",
       "      <th></th>\n",
       "      <th>Rank</th>\n",
       "      <th>State</th>\n",
       "      <th>GSDP at current price (19-20)</th>\n",
       "      <th>GSDP at current price (18-19)</th>\n",
       "      <th>Share</th>\n",
       "      <th>GDP</th>\n",
       "    </tr>\n",
       "  </thead>\n",
       "  <tbody>\n",
       "  </tbody>\n",
       "</table>\n",
       "</div>"
      ],
      "text/plain": [
       "Empty DataFrame\n",
       "Columns: [Rank, State, GSDP at current price (19-20), GSDP at current price (18-19), Share, GDP]\n",
       "Index: []"
      ]
     },
     "execution_count": 36,
     "metadata": {},
     "output_type": "execute_result"
    }
   ],
   "source": [
    "State_wise_GDP_of_India['Rank']=rank\n",
    "State_wise_GDP_of_India['State']=state\n",
    "State_wise_GDP_of_India['GSDP at current price (19-20)']=gsdp_19\n",
    "State_wise_GDP_of_India['GSDP at current price (18-19)']=gsdp_18\n",
    "State_wise_GDP_of_India['Share']=share\n",
    "State_wise_GDP_of_India['GDP']=gdp\n",
    "State_wise_GDP_of_India"
   ]
  }
 ],
 "metadata": {
  "kernelspec": {
   "display_name": "Python 3",
   "language": "python",
   "name": "python3"
  },
  "language_info": {
   "codemirror_mode": {
    "name": "ipython",
    "version": 3
   },
   "file_extension": ".py",
   "mimetype": "text/x-python",
   "name": "python",
   "nbconvert_exporter": "python",
   "pygments_lexer": "ipython3",
   "version": "3.8.8"
  }
 },
 "nbformat": 4,
 "nbformat_minor": 5
}
