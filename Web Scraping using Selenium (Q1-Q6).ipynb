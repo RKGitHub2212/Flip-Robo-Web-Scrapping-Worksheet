{
 "cells": [
  {
   "cell_type": "code",
   "execution_count": 2,
   "id": "f2a9b440",
   "metadata": {},
   "outputs": [
    {
     "name": "stdout",
     "output_type": "stream",
     "text": [
      "Collecting selenium\n",
      "  Downloading selenium-3.141.0-py2.py3-none-any.whl (904 kB)\n",
      "Requirement already satisfied: urllib3 in c:\\users\\kunal\\anaconda3\\lib\\site-packages (from selenium) (1.26.4)\n",
      "Installing collected packages: selenium\n",
      "Successfully installed selenium-3.141.0\n",
      "Collecting selenium\n",
      "  Using cached selenium-3.141.0-py2.py3-none-any.whl (904 kB)\n",
      "Requirement already satisfied: urllib3 in c:\\users\\kunal\\anaconda3\\lib\\site-packages (from selenium) (1.26.4)\n",
      "Installing collected packages: selenium\n",
      "Successfully installed selenium-3.141.0\n"
     ]
    }
   ],
   "source": [
    "!pip install selenium"
   ]
  },
  {
   "cell_type": "markdown",
   "id": "53542357",
   "metadata": {},
   "source": [
    "Importing Important Libraries for Web Scraping"
   ]
  },
  {
   "cell_type": "code",
   "execution_count": 2,
   "id": "d2e1bedf",
   "metadata": {},
   "outputs": [],
   "source": [
    "import selenium\n",
    "import pandas as pd\n",
    "from selenium import webdriver"
   ]
  },
  {
   "cell_type": "markdown",
   "id": "12debb50",
   "metadata": {},
   "source": [
    "Defining Web Driver"
   ]
  },
  {
   "cell_type": "code",
   "execution_count": 18,
   "id": "b6117253",
   "metadata": {},
   "outputs": [],
   "source": [
    "driver = webdriver.Chrome(r\"C:\\Users\\KUNAL\\Downloads\\chromedriver_win32\\chromedriver.exe\")"
   ]
  },
  {
   "cell_type": "markdown",
   "id": "1f28a44b",
   "metadata": {},
   "source": [
    "# 1.Python program to scrape data for “Data Analyst” Job position in  “Bangalore” location"
   ]
  },
  {
   "cell_type": "markdown",
   "id": "a29045e8",
   "metadata": {},
   "source": [
    "Webpage used for Web Scraping"
   ]
  },
  {
   "cell_type": "code",
   "execution_count": 19,
   "id": "162590a0",
   "metadata": {},
   "outputs": [],
   "source": [
    "driver.get('https://www.naukri.com/')"
   ]
  },
  {
   "cell_type": "markdown",
   "id": "ab9e5923",
   "metadata": {},
   "source": [
    "Finding Element for Job Search Bar"
   ]
  },
  {
   "cell_type": "code",
   "execution_count": 20,
   "id": "2dc72f32",
   "metadata": {},
   "outputs": [],
   "source": [
    "search_job = driver.find_element_by_id('qsb-keyword-sugg')\n",
    "search_job.send_keys(\"Data Analyst\")\n",
    "search_loc = driver.find_element_by_xpath(\"//input[@id='qsb-location-sugg']\")\n",
    "search_loc.send_keys(\"Banglore\")"
   ]
  },
  {
   "cell_type": "code",
   "execution_count": 22,
   "id": "525e7361",
   "metadata": {},
   "outputs": [],
   "source": [
    "search_btn = driver.find_element_by_xpath(\"//div[@class='search-btn']/button\")\n",
    "search_btn.click()"
   ]
  },
  {
   "cell_type": "markdown",
   "id": "2633bf88",
   "metadata": {},
   "source": [
    "Specifying the URL of the Webpage to be Scraped"
   ]
  },
  {
   "cell_type": "code",
   "execution_count": 24,
   "id": "210178c5",
   "metadata": {},
   "outputs": [],
   "source": [
    "url = \"https://www.naukri.com/data-analyst-jobs-in-banglore?k=data%20analyst&l=banglore\""
   ]
  },
  {
   "cell_type": "markdown",
   "id": "9b4937a4",
   "metadata": {},
   "source": [
    "Opening Webpage through Web Driver"
   ]
  },
  {
   "cell_type": "code",
   "execution_count": 26,
   "id": "96208086",
   "metadata": {},
   "outputs": [],
   "source": [
    "driver.get(url)"
   ]
  },
  {
   "cell_type": "markdown",
   "id": "d6f87c1f",
   "metadata": {},
   "source": [
    "Creating the 4 empty list in which data will be stored while scraping.\n",
    "The 4 empty list created for 4 features which is to be extracted.\n",
    "\n",
    "1.Job_title  2.Job_location  3.Company_name  4.Experience_required"
   ]
  },
  {
   "cell_type": "code",
   "execution_count": 27,
   "id": "1aa875d4",
   "metadata": {},
   "outputs": [],
   "source": [
    "Job_title=[]\n",
    "Job_location=[]\n",
    "Company_name=[]\n",
    "Experience_required=[]"
   ]
  },
  {
   "cell_type": "markdown",
   "id": "1ecba34d",
   "metadata": {},
   "source": [
    "Extracting all the tags Having the Job Title"
   ]
  },
  {
   "cell_type": "code",
   "execution_count": 28,
   "id": "94038b04",
   "metadata": {},
   "outputs": [
    {
     "data": {
      "text/plain": [
       "[<selenium.webdriver.remote.webelement.WebElement (session=\"2a612aa0a72823eddcda3a653616941d\", element=\"2025aadb-f8d6-453a-be18-3503b1ac35ac\")>,\n",
       " <selenium.webdriver.remote.webelement.WebElement (session=\"2a612aa0a72823eddcda3a653616941d\", element=\"5fd408e6-6505-464f-a1fe-9f25f04444ac\")>,\n",
       " <selenium.webdriver.remote.webelement.WebElement (session=\"2a612aa0a72823eddcda3a653616941d\", element=\"8919a5e7-7d6e-4b5f-a039-30f740064191\")>,\n",
       " <selenium.webdriver.remote.webelement.WebElement (session=\"2a612aa0a72823eddcda3a653616941d\", element=\"0ef4430b-fb48-420d-a030-03e1cfb5b5e8\")>,\n",
       " <selenium.webdriver.remote.webelement.WebElement (session=\"2a612aa0a72823eddcda3a653616941d\", element=\"558e882d-54a1-4c1d-8f95-1e506345fbc9\")>]"
      ]
     },
     "execution_count": 28,
     "metadata": {},
     "output_type": "execute_result"
    }
   ],
   "source": [
    "titles_tags=driver.find_elements_by_xpath(\"//a[@class='title fw500 ellipsis']\")\n",
    "titles_tags[0:5]"
   ]
  },
  {
   "cell_type": "markdown",
   "id": "d30531d9",
   "metadata": {},
   "source": [
    "Now running a loop to extract the text from the extracted tags"
   ]
  },
  {
   "cell_type": "code",
   "execution_count": 30,
   "id": "ac9e92db",
   "metadata": {},
   "outputs": [
    {
     "data": {
      "text/plain": [
       "['Openings For Data Analyst',\n",
       " 'Data Analyst',\n",
       " 'Business Cum Data Analyst',\n",
       " 'Urgent Openings For Data Analysts.',\n",
       " 'Situs AMC Is Hiring For Senior Data Analyst']"
      ]
     },
     "execution_count": 30,
     "metadata": {},
     "output_type": "execute_result"
    }
   ],
   "source": [
    "for i in titles_tags:\n",
    "    Title=i.text\n",
    "    Job_title.append(Title)\n",
    "Job_title[0:5]"
   ]
  },
  {
   "cell_type": "markdown",
   "id": "6cc17385",
   "metadata": {},
   "source": [
    "Extracting all the tags Having the Job Location"
   ]
  },
  {
   "cell_type": "code",
   "execution_count": 31,
   "id": "120bf2d5",
   "metadata": {},
   "outputs": [
    {
     "data": {
      "text/plain": [
       "[<selenium.webdriver.remote.webelement.WebElement (session=\"2a612aa0a72823eddcda3a653616941d\", element=\"5d975fe4-a402-49aa-9fc2-2d865460dc82\")>,\n",
       " <selenium.webdriver.remote.webelement.WebElement (session=\"2a612aa0a72823eddcda3a653616941d\", element=\"af96868c-4feb-472f-b717-e5d0927401cd\")>,\n",
       " <selenium.webdriver.remote.webelement.WebElement (session=\"2a612aa0a72823eddcda3a653616941d\", element=\"22acd70e-84cb-4211-8ac7-f2feb33af7a5\")>,\n",
       " <selenium.webdriver.remote.webelement.WebElement (session=\"2a612aa0a72823eddcda3a653616941d\", element=\"18ef474c-df9c-4672-8b1a-b1fa025aefb3\")>,\n",
       " <selenium.webdriver.remote.webelement.WebElement (session=\"2a612aa0a72823eddcda3a653616941d\", element=\"9a95159b-a85b-4dad-ba89-4deaf3195658\")>]"
      ]
     },
     "execution_count": 31,
     "metadata": {},
     "output_type": "execute_result"
    }
   ],
   "source": [
    "locations_tags=driver.find_elements_by_xpath(\"//li[@class='fleft grey-text br2 placeHolderLi location']\")\n",
    "locations_tags[0:5]"
   ]
  },
  {
   "cell_type": "markdown",
   "id": "d499443f",
   "metadata": {},
   "source": [
    "Running a loop to extract the text from the extracted tags"
   ]
  },
  {
   "cell_type": "code",
   "execution_count": 32,
   "id": "d1066a01",
   "metadata": {},
   "outputs": [
    {
     "data": {
      "text/plain": [
       "['Bangalore/Bengaluru',\n",
       " 'Bangalore/Bengaluru',\n",
       " 'Bangalore/Bengaluru',\n",
       " 'Bangalore/Bengaluru(Devarabeesana Halli)\\n(WFH during Covid)',\n",
       " 'Chennai, Bangalore/Bengaluru, Mumbai (All Areas)']"
      ]
     },
     "execution_count": 32,
     "metadata": {},
     "output_type": "execute_result"
    }
   ],
   "source": [
    "for i in locations_tags:\n",
    "    Location=i.text\n",
    "    Job_location.append(Location)\n",
    "Job_location[0:5]"
   ]
  },
  {
   "cell_type": "markdown",
   "id": "573ce0e5",
   "metadata": {},
   "source": [
    "Extracting all the tags Having the Company Name"
   ]
  },
  {
   "cell_type": "code",
   "execution_count": 33,
   "id": "84529e7d",
   "metadata": {},
   "outputs": [
    {
     "data": {
      "text/plain": [
       "[<selenium.webdriver.remote.webelement.WebElement (session=\"2a612aa0a72823eddcda3a653616941d\", element=\"d22d28af-6dbf-4618-adc8-aae5fc3242bb\")>,\n",
       " <selenium.webdriver.remote.webelement.WebElement (session=\"2a612aa0a72823eddcda3a653616941d\", element=\"3dfc9a1b-7aec-49d4-863f-88a697eacb37\")>,\n",
       " <selenium.webdriver.remote.webelement.WebElement (session=\"2a612aa0a72823eddcda3a653616941d\", element=\"f72f0456-d1ca-496f-a065-e283b464679e\")>,\n",
       " <selenium.webdriver.remote.webelement.WebElement (session=\"2a612aa0a72823eddcda3a653616941d\", element=\"09c0ebf1-389a-4695-a1b4-866589e0d80e\")>,\n",
       " <selenium.webdriver.remote.webelement.WebElement (session=\"2a612aa0a72823eddcda3a653616941d\", element=\"6d32a0fc-c653-4a01-a2f5-a9fcd40a61e2\")>]"
      ]
     },
     "execution_count": 33,
     "metadata": {},
     "output_type": "execute_result"
    }
   ],
   "source": [
    "companies_tags=driver.find_elements_by_xpath(\"//a[@class='subTitle ellipsis fleft']\")\n",
    "companies_tags[0:5]"
   ]
  },
  {
   "cell_type": "markdown",
   "id": "7fd59440",
   "metadata": {},
   "source": [
    "Running a loop to extract the text from the extracted tags"
   ]
  },
  {
   "cell_type": "code",
   "execution_count": 34,
   "id": "8b52a90c",
   "metadata": {},
   "outputs": [
    {
     "data": {
      "text/plain": [
       "['Allegis Services India Pvt. Ltd.',\n",
       " 'Applied Materials',\n",
       " 'Virtusa Consulting Services Pvt Ltd',\n",
       " 'Flipkart Internet Private Limited',\n",
       " 'SITUSAMC INDIA PRIVATE LIMITED']"
      ]
     },
     "execution_count": 34,
     "metadata": {},
     "output_type": "execute_result"
    }
   ],
   "source": [
    "for i in companies_tags:\n",
    "    Company=i.text\n",
    "    Company_name.append(Company)\n",
    "Company_name[0:5]"
   ]
  },
  {
   "cell_type": "markdown",
   "id": "67432615",
   "metadata": {},
   "source": [
    "Extracting all the tags Having the Experience Required"
   ]
  },
  {
   "cell_type": "code",
   "execution_count": 38,
   "id": "1e4b595c",
   "metadata": {},
   "outputs": [
    {
     "data": {
      "text/plain": [
       "[<selenium.webdriver.remote.webelement.WebElement (session=\"2a612aa0a72823eddcda3a653616941d\", element=\"f9c8bc10-9131-4c91-b597-61d7c2f11971\")>,\n",
       " <selenium.webdriver.remote.webelement.WebElement (session=\"2a612aa0a72823eddcda3a653616941d\", element=\"5badabbd-f479-4e02-a1bc-c571f56a3efc\")>,\n",
       " <selenium.webdriver.remote.webelement.WebElement (session=\"2a612aa0a72823eddcda3a653616941d\", element=\"478370aa-2803-4520-824f-8766134515fd\")>,\n",
       " <selenium.webdriver.remote.webelement.WebElement (session=\"2a612aa0a72823eddcda3a653616941d\", element=\"677831f1-dd33-4369-8be3-473cb871717a\")>,\n",
       " <selenium.webdriver.remote.webelement.WebElement (session=\"2a612aa0a72823eddcda3a653616941d\", element=\"5d154e73-f50f-4675-81f8-b8fde1b649d6\")>]"
      ]
     },
     "execution_count": 38,
     "metadata": {},
     "output_type": "execute_result"
    }
   ],
   "source": [
    "experience_tags=driver.find_elements_by_xpath(\"//li[@class='fleft grey-text br2 placeHolderLi experience']\")\n",
    "experience_tags[0:5]"
   ]
  },
  {
   "cell_type": "markdown",
   "id": "677995e4",
   "metadata": {},
   "source": [
    "Running a loop to extract the text from the extracted tags"
   ]
  },
  {
   "cell_type": "code",
   "execution_count": 39,
   "id": "72c9b329",
   "metadata": {},
   "outputs": [
    {
     "data": {
      "text/plain": [
       "['0-3 Yrs', '0-3 Yrs', '2-4 Yrs', '1-6 Yrs', '2-7 Yrs']"
      ]
     },
     "execution_count": 39,
     "metadata": {},
     "output_type": "execute_result"
    }
   ],
   "source": [
    "for i in experience_tags:\n",
    "    Experience=i.text\n",
    "    Experience_required.append(Experience)\n",
    "Experience_required[0:5]"
   ]
  },
  {
   "cell_type": "markdown",
   "id": "0a48f3fd",
   "metadata": {},
   "source": [
    "Checking the length of the Lists"
   ]
  },
  {
   "cell_type": "code",
   "execution_count": 42,
   "id": "6f74fc88",
   "metadata": {},
   "outputs": [
    {
     "data": {
      "text/plain": [
       "(20, 20, 20, 20)"
      ]
     },
     "execution_count": 42,
     "metadata": {},
     "output_type": "execute_result"
    }
   ],
   "source": [
    "len(Job_title),len(Job_location),len(Company_name),len(Experience_required)"
   ]
  },
  {
   "cell_type": "markdown",
   "id": "415c93a9",
   "metadata": {},
   "source": [
    "Now creating Data Frame using the data extracted from Web Page"
   ]
  },
  {
   "cell_type": "code",
   "execution_count": 45,
   "id": "43d50707",
   "metadata": {},
   "outputs": [
    {
     "data": {
      "text/html": [
       "<div>\n",
       "<style scoped>\n",
       "    .dataframe tbody tr th:only-of-type {\n",
       "        vertical-align: middle;\n",
       "    }\n",
       "\n",
       "    .dataframe tbody tr th {\n",
       "        vertical-align: top;\n",
       "    }\n",
       "\n",
       "    .dataframe thead th {\n",
       "        text-align: right;\n",
       "    }\n",
       "</style>\n",
       "<table border=\"1\" class=\"dataframe\">\n",
       "  <thead>\n",
       "    <tr style=\"text-align: right;\">\n",
       "      <th></th>\n",
       "      <th>Title</th>\n",
       "      <th>Location</th>\n",
       "      <th>Company</th>\n",
       "      <th>Experience</th>\n",
       "    </tr>\n",
       "  </thead>\n",
       "  <tbody>\n",
       "    <tr>\n",
       "      <th>0</th>\n",
       "      <td>Openings For Data Analyst</td>\n",
       "      <td>Bangalore/Bengaluru</td>\n",
       "      <td>Allegis Services India Pvt. Ltd.</td>\n",
       "      <td>0-3 Yrs</td>\n",
       "    </tr>\n",
       "    <tr>\n",
       "      <th>1</th>\n",
       "      <td>Data Analyst</td>\n",
       "      <td>Bangalore/Bengaluru</td>\n",
       "      <td>Applied Materials</td>\n",
       "      <td>0-3 Yrs</td>\n",
       "    </tr>\n",
       "    <tr>\n",
       "      <th>2</th>\n",
       "      <td>Business Cum Data Analyst</td>\n",
       "      <td>Bangalore/Bengaluru</td>\n",
       "      <td>Virtusa Consulting Services Pvt Ltd</td>\n",
       "      <td>2-4 Yrs</td>\n",
       "    </tr>\n",
       "    <tr>\n",
       "      <th>3</th>\n",
       "      <td>Urgent Openings For Data Analysts.</td>\n",
       "      <td>Bangalore/Bengaluru(Devarabeesana Halli)\\n(WFH...</td>\n",
       "      <td>Flipkart Internet Private Limited</td>\n",
       "      <td>1-6 Yrs</td>\n",
       "    </tr>\n",
       "    <tr>\n",
       "      <th>4</th>\n",
       "      <td>Situs AMC Is Hiring For Senior Data Analyst</td>\n",
       "      <td>Chennai, Bangalore/Bengaluru, Mumbai (All Areas)</td>\n",
       "      <td>SITUSAMC INDIA PRIVATE LIMITED</td>\n",
       "      <td>2-7 Yrs</td>\n",
       "    </tr>\n",
       "    <tr>\n",
       "      <th>5</th>\n",
       "      <td>Senior Data Analyst</td>\n",
       "      <td>Bangalore/Bengaluru</td>\n",
       "      <td>Kwalee ltd.</td>\n",
       "      <td>5-10 Yrs</td>\n",
       "    </tr>\n",
       "    <tr>\n",
       "      <th>6</th>\n",
       "      <td>Data Analyst - Python/SQL</td>\n",
       "      <td>Bangalore/Bengaluru</td>\n",
       "      <td>Affine</td>\n",
       "      <td>3-5 Yrs</td>\n",
       "    </tr>\n",
       "    <tr>\n",
       "      <th>7</th>\n",
       "      <td>Data Analyst</td>\n",
       "      <td>Bangalore/Bengaluru</td>\n",
       "      <td>Kwalee ltd.</td>\n",
       "      <td>2-7 Yrs</td>\n",
       "    </tr>\n",
       "    <tr>\n",
       "      <th>8</th>\n",
       "      <td>ID&amp;A - Data Analyst - Informatica MDM</td>\n",
       "      <td>Bangalore/Bengaluru</td>\n",
       "      <td>Shell India Markets Private Limited</td>\n",
       "      <td>5-9 Yrs</td>\n",
       "    </tr>\n",
       "    <tr>\n",
       "      <th>9</th>\n",
       "      <td>Procurement Data Analyst</td>\n",
       "      <td>Bangalore/Bengaluru(Koramangala)</td>\n",
       "      <td>Sunstream Global Technologies LLP</td>\n",
       "      <td>0-2 Yrs</td>\n",
       "    </tr>\n",
       "  </tbody>\n",
       "</table>\n",
       "</div>"
      ],
      "text/plain": [
       "                                         Title  \\\n",
       "0                    Openings For Data Analyst   \n",
       "1                                 Data Analyst   \n",
       "2                    Business Cum Data Analyst   \n",
       "3           Urgent Openings For Data Analysts.   \n",
       "4  Situs AMC Is Hiring For Senior Data Analyst   \n",
       "5                          Senior Data Analyst   \n",
       "6                    Data Analyst - Python/SQL   \n",
       "7                                 Data Analyst   \n",
       "8        ID&A - Data Analyst - Informatica MDM   \n",
       "9                     Procurement Data Analyst   \n",
       "\n",
       "                                            Location  \\\n",
       "0                                Bangalore/Bengaluru   \n",
       "1                                Bangalore/Bengaluru   \n",
       "2                                Bangalore/Bengaluru   \n",
       "3  Bangalore/Bengaluru(Devarabeesana Halli)\\n(WFH...   \n",
       "4   Chennai, Bangalore/Bengaluru, Mumbai (All Areas)   \n",
       "5                                Bangalore/Bengaluru   \n",
       "6                                Bangalore/Bengaluru   \n",
       "7                                Bangalore/Bengaluru   \n",
       "8                                Bangalore/Bengaluru   \n",
       "9                   Bangalore/Bengaluru(Koramangala)   \n",
       "\n",
       "                               Company Experience  \n",
       "0     Allegis Services India Pvt. Ltd.    0-3 Yrs  \n",
       "1                    Applied Materials    0-3 Yrs  \n",
       "2  Virtusa Consulting Services Pvt Ltd    2-4 Yrs  \n",
       "3    Flipkart Internet Private Limited    1-6 Yrs  \n",
       "4       SITUSAMC INDIA PRIVATE LIMITED    2-7 Yrs  \n",
       "5                          Kwalee ltd.   5-10 Yrs  \n",
       "6                               Affine    3-5 Yrs  \n",
       "7                          Kwalee ltd.    2-7 Yrs  \n",
       "8  Shell India Markets Private Limited    5-9 Yrs  \n",
       "9    Sunstream Global Technologies LLP    0-2 Yrs  "
      ]
     },
     "execution_count": 45,
     "metadata": {},
     "output_type": "execute_result"
    }
   ],
   "source": [
    "Jobs=pd.DataFrame({})\n",
    "Jobs['Title']=Job_title[0:10]\n",
    "Jobs['Location']=Job_location[0:10]\n",
    "Jobs['Company']=Company_name[0:10]\n",
    "Jobs['Experience']=Experience_required[0:10]\n",
    "Jobs"
   ]
  },
  {
   "cell_type": "markdown",
   "id": "c3e4ece2",
   "metadata": {},
   "source": [
    "# 2.Python program to scrape data for “Data Scientist” Job position in “Bangalore” location"
   ]
  },
  {
   "cell_type": "code",
   "execution_count": 48,
   "id": "f1ecb913",
   "metadata": {},
   "outputs": [],
   "source": [
    "driver = webdriver.Chrome(r\"C:\\Users\\KUNAL\\Downloads\\chromedriver_win32\\chromedriver.exe\")"
   ]
  },
  {
   "cell_type": "markdown",
   "id": "c2fd087f",
   "metadata": {},
   "source": [
    "Webpage used for Web Scraping"
   ]
  },
  {
   "cell_type": "code",
   "execution_count": 49,
   "id": "f3ea5b57",
   "metadata": {},
   "outputs": [],
   "source": [
    "driver.get('https://www.naukri.com/')"
   ]
  },
  {
   "cell_type": "markdown",
   "id": "6fd0b14a",
   "metadata": {},
   "source": [
    "Finding Element for Job Search Bar"
   ]
  },
  {
   "cell_type": "code",
   "execution_count": 50,
   "id": "d761219b",
   "metadata": {},
   "outputs": [],
   "source": [
    "search_job = driver.find_element_by_id('qsb-keyword-sugg')\n",
    "search_job.send_keys(\"Data Scientist\")\n",
    "search_loc = driver.find_element_by_xpath(\"//input[@id='qsb-location-sugg']\")\n",
    "search_loc.send_keys(\"Banglore\")"
   ]
  },
  {
   "cell_type": "code",
   "execution_count": 51,
   "id": "7cff6df4",
   "metadata": {},
   "outputs": [],
   "source": [
    "search_btn = driver.find_element_by_xpath(\"//div[@class='search-btn']/button\")\n",
    "search_btn.click()"
   ]
  },
  {
   "cell_type": "markdown",
   "id": "3d451451",
   "metadata": {},
   "source": [
    "Specifying the URL of the Webpage to be Scraped"
   ]
  },
  {
   "cell_type": "code",
   "execution_count": 53,
   "id": "8059a327",
   "metadata": {},
   "outputs": [],
   "source": [
    "url = \"https://www.naukri.com/data-scientist-jobs-in-banglore?k=data%20scientist&l=banglore\""
   ]
  },
  {
   "cell_type": "markdown",
   "id": "7832459c",
   "metadata": {},
   "source": [
    "Opening Webpage through Web Driver"
   ]
  },
  {
   "cell_type": "code",
   "execution_count": 54,
   "id": "f8c23fc9",
   "metadata": {},
   "outputs": [],
   "source": [
    "driver.get(url)"
   ]
  },
  {
   "cell_type": "markdown",
   "id": "215dbd94",
   "metadata": {},
   "source": [
    "Creating the 4 empty list in which data will be stored while scraping. The 4 empty list created for 4 features which is to be extracted.\n",
    "\n",
    "1.Job_title 2.Job_location 3.Company_name 4.Job_Description"
   ]
  },
  {
   "cell_type": "code",
   "execution_count": 55,
   "id": "d1472560",
   "metadata": {},
   "outputs": [],
   "source": [
    "Job_title=[]\n",
    "Job_location=[]\n",
    "Company_name=[]\n",
    "Job_Description=[]"
   ]
  },
  {
   "cell_type": "markdown",
   "id": "a8208d59",
   "metadata": {},
   "source": [
    "Extracting all the tags Having the Job Title"
   ]
  },
  {
   "cell_type": "code",
   "execution_count": 56,
   "id": "b441eea5",
   "metadata": {},
   "outputs": [
    {
     "data": {
      "text/plain": [
       "[<selenium.webdriver.remote.webelement.WebElement (session=\"656cbc960d2d08757af73a0695a39f45\", element=\"778a3c8c-94e4-43f3-bad3-341e4b43988f\")>,\n",
       " <selenium.webdriver.remote.webelement.WebElement (session=\"656cbc960d2d08757af73a0695a39f45\", element=\"4b9e82fe-732b-4dad-b6c9-89a66574bfd3\")>,\n",
       " <selenium.webdriver.remote.webelement.WebElement (session=\"656cbc960d2d08757af73a0695a39f45\", element=\"b6242b3d-7e8f-4e18-ad44-4ed378549d18\")>,\n",
       " <selenium.webdriver.remote.webelement.WebElement (session=\"656cbc960d2d08757af73a0695a39f45\", element=\"45660dad-bd09-4a7e-b76a-68985c14266c\")>,\n",
       " <selenium.webdriver.remote.webelement.WebElement (session=\"656cbc960d2d08757af73a0695a39f45\", element=\"ab49b338-7bd6-4b50-9989-6534ad74f000\")>]"
      ]
     },
     "execution_count": 56,
     "metadata": {},
     "output_type": "execute_result"
    }
   ],
   "source": [
    "titles_tags=driver.find_elements_by_xpath(\"//a[@class='title fw500 ellipsis']\")\n",
    "titles_tags[0:5]"
   ]
  },
  {
   "cell_type": "markdown",
   "id": "c0b710e5",
   "metadata": {},
   "source": [
    "Now running a loop to extract the text from the extracted tags"
   ]
  },
  {
   "cell_type": "code",
   "execution_count": 57,
   "id": "e6d594d3",
   "metadata": {},
   "outputs": [
    {
     "data": {
      "text/plain": [
       "['Senior/Lead Data Scientist',\n",
       " 'Senior Data Scientist',\n",
       " 'Data Scientist: Advanced Analytics',\n",
       " 'Digital Enterprise Architect (Data Scientist)',\n",
       " 'Data Scientist']"
      ]
     },
     "execution_count": 57,
     "metadata": {},
     "output_type": "execute_result"
    }
   ],
   "source": [
    "for i in titles_tags:\n",
    "    Title=i.text\n",
    "    Job_title.append(Title)\n",
    "Job_title[0:5]"
   ]
  },
  {
   "cell_type": "markdown",
   "id": "63b9cdd5",
   "metadata": {},
   "source": [
    "Extracting all the tags Having the Job Location"
   ]
  },
  {
   "cell_type": "code",
   "execution_count": 58,
   "id": "84acc4fb",
   "metadata": {},
   "outputs": [
    {
     "data": {
      "text/plain": [
       "[<selenium.webdriver.remote.webelement.WebElement (session=\"656cbc960d2d08757af73a0695a39f45\", element=\"be176b60-fbb1-4cc1-b396-20ca9d6ac82e\")>,\n",
       " <selenium.webdriver.remote.webelement.WebElement (session=\"656cbc960d2d08757af73a0695a39f45\", element=\"7117f006-d796-4b77-8972-06b0769f6a14\")>,\n",
       " <selenium.webdriver.remote.webelement.WebElement (session=\"656cbc960d2d08757af73a0695a39f45\", element=\"37d3ec22-52a7-44d3-b5f5-b1397893a175\")>,\n",
       " <selenium.webdriver.remote.webelement.WebElement (session=\"656cbc960d2d08757af73a0695a39f45\", element=\"9fabdc49-57a3-43f4-89d8-9d2c4c37618e\")>,\n",
       " <selenium.webdriver.remote.webelement.WebElement (session=\"656cbc960d2d08757af73a0695a39f45\", element=\"e34a49a1-8981-44be-a94a-96b30611e681\")>]"
      ]
     },
     "execution_count": 58,
     "metadata": {},
     "output_type": "execute_result"
    }
   ],
   "source": [
    "locations_tags=driver.find_elements_by_xpath(\"//li[@class='fleft grey-text br2 placeHolderLi location']\")\n",
    "locations_tags[0:5]"
   ]
  },
  {
   "cell_type": "markdown",
   "id": "475d57aa",
   "metadata": {},
   "source": [
    "Running a loop to extract the text from the extracted tags"
   ]
  },
  {
   "cell_type": "code",
   "execution_count": 59,
   "id": "cb9a16e7",
   "metadata": {},
   "outputs": [
    {
     "data": {
      "text/plain": [
       "['Bangalore/Bengaluru',\n",
       " 'Bangalore/Bengaluru',\n",
       " 'Bangalore/Bengaluru',\n",
       " 'Bangalore/Bengaluru',\n",
       " 'Bangalore/Bengaluru']"
      ]
     },
     "execution_count": 59,
     "metadata": {},
     "output_type": "execute_result"
    }
   ],
   "source": [
    "for i in locations_tags:\n",
    "    Location=i.text\n",
    "    Job_location.append(Location)\n",
    "Job_location[0:5]"
   ]
  },
  {
   "cell_type": "markdown",
   "id": "55cb861b",
   "metadata": {},
   "source": [
    "Extracting all the tags Having the Company Name"
   ]
  },
  {
   "cell_type": "code",
   "execution_count": 60,
   "id": "ddf99b0e",
   "metadata": {},
   "outputs": [
    {
     "data": {
      "text/plain": [
       "[<selenium.webdriver.remote.webelement.WebElement (session=\"656cbc960d2d08757af73a0695a39f45\", element=\"ce3879f6-cb82-4d4f-b9d4-642e0c7cc314\")>,\n",
       " <selenium.webdriver.remote.webelement.WebElement (session=\"656cbc960d2d08757af73a0695a39f45\", element=\"aab9d56b-d25a-4a1e-b0f7-6aca34a29160\")>,\n",
       " <selenium.webdriver.remote.webelement.WebElement (session=\"656cbc960d2d08757af73a0695a39f45\", element=\"a7e67e70-912d-4c90-8897-fb69f3c5a200\")>,\n",
       " <selenium.webdriver.remote.webelement.WebElement (session=\"656cbc960d2d08757af73a0695a39f45\", element=\"3978dfc9-9947-4977-8a96-f75b79e7aa75\")>,\n",
       " <selenium.webdriver.remote.webelement.WebElement (session=\"656cbc960d2d08757af73a0695a39f45\", element=\"39832bd3-9a18-4eb1-bde5-297ca04ea711\")>]"
      ]
     },
     "execution_count": 60,
     "metadata": {},
     "output_type": "execute_result"
    }
   ],
   "source": [
    "companies_tags=driver.find_elements_by_xpath(\"//a[@class='subTitle ellipsis fleft']\")\n",
    "companies_tags[0:5]"
   ]
  },
  {
   "cell_type": "markdown",
   "id": "a4e4a837",
   "metadata": {},
   "source": [
    "Running a loop to extract the text from the extracted tags"
   ]
  },
  {
   "cell_type": "code",
   "execution_count": 61,
   "id": "2d0cc8bb",
   "metadata": {},
   "outputs": [
    {
     "data": {
      "text/plain": [
       "['Scienaptic Systems',\n",
       " 'Visa',\n",
       " 'IBM India Pvt. Limited',\n",
       " 'Mphasis Limited',\n",
       " 'Intel Technology India Pvt Ltd']"
      ]
     },
     "execution_count": 61,
     "metadata": {},
     "output_type": "execute_result"
    }
   ],
   "source": [
    "for i in companies_tags:\n",
    "    Company=i.text\n",
    "    Company_name.append(Company)\n",
    "Company_name[0:5]"
   ]
  },
  {
   "cell_type": "markdown",
   "id": "4c955a55",
   "metadata": {},
   "source": [
    "Extracting all the tags Having the Job Description"
   ]
  },
  {
   "cell_type": "code",
   "execution_count": 63,
   "id": "5b63f011",
   "metadata": {},
   "outputs": [
    {
     "data": {
      "text/plain": [
       "[<selenium.webdriver.remote.webelement.WebElement (session=\"656cbc960d2d08757af73a0695a39f45\", element=\"b6177d27-20fb-4c62-bb56-fae044a6a128\")>,\n",
       " <selenium.webdriver.remote.webelement.WebElement (session=\"656cbc960d2d08757af73a0695a39f45\", element=\"597c5991-a7f2-4179-bf88-9d5a070dbed3\")>,\n",
       " <selenium.webdriver.remote.webelement.WebElement (session=\"656cbc960d2d08757af73a0695a39f45\", element=\"11d47318-5542-4e81-9528-c91fd41cbf0d\")>,\n",
       " <selenium.webdriver.remote.webelement.WebElement (session=\"656cbc960d2d08757af73a0695a39f45\", element=\"e46f6f25-e082-41c0-9306-2b8b4e3ccd7a\")>,\n",
       " <selenium.webdriver.remote.webelement.WebElement (session=\"656cbc960d2d08757af73a0695a39f45\", element=\"1209fc9c-585c-410b-9870-6c379a20e799\")>]"
      ]
     },
     "execution_count": 63,
     "metadata": {},
     "output_type": "execute_result"
    }
   ],
   "source": [
    "description_tags=driver.find_elements_by_xpath(\"//div[@class='job-description fs12 grey-text']\")\n",
    "description_tags[0:5]"
   ]
  },
  {
   "cell_type": "code",
   "execution_count": null,
   "id": "3672eec5",
   "metadata": {},
   "outputs": [],
   "source": [
    "Running a loop to extract the text from the extracted tags"
   ]
  },
  {
   "cell_type": "code",
   "execution_count": 65,
   "id": "858b61c2",
   "metadata": {},
   "outputs": [
    {
     "data": {
      "text/plain": [
       "['5 10 years of Applied Machine learning experience in the fields of Machine Learning, Re...',\n",
       " 'Post-graduate degree (Masters or PhD)Minimum of 6 years of analytics expertise in apply...',\n",
       " 'As a Data Scientist at IBM, you will help transform our clients data into tangible busi...',\n",
       " 'Experience working with enterprise architecture for the complex solutions solving busin...',\n",
       " 'Must possess strong understanding of internal business segment (stakeholders) and posse...']"
      ]
     },
     "execution_count": 65,
     "metadata": {},
     "output_type": "execute_result"
    }
   ],
   "source": [
    "for i in description_tags:\n",
    "    Description=i.text\n",
    "    Job_Description.append(Description)\n",
    "Job_Description[0:5]"
   ]
  },
  {
   "cell_type": "markdown",
   "id": "bc5f3a16",
   "metadata": {},
   "source": [
    "Checking the length of the Lists"
   ]
  },
  {
   "cell_type": "code",
   "execution_count": 66,
   "id": "27747756",
   "metadata": {},
   "outputs": [
    {
     "data": {
      "text/plain": [
       "(20, 20, 20, 20)"
      ]
     },
     "execution_count": 66,
     "metadata": {},
     "output_type": "execute_result"
    }
   ],
   "source": [
    "len(Job_title),len(Job_location),len(Company_name),len(Job_Description)"
   ]
  },
  {
   "cell_type": "markdown",
   "id": "1db0d7e5",
   "metadata": {},
   "source": [
    "Now creating Data Frame using the data extracted from Web Page"
   ]
  },
  {
   "cell_type": "code",
   "execution_count": 67,
   "id": "73e13a12",
   "metadata": {
    "scrolled": true
   },
   "outputs": [
    {
     "data": {
      "text/html": [
       "<div>\n",
       "<style scoped>\n",
       "    .dataframe tbody tr th:only-of-type {\n",
       "        vertical-align: middle;\n",
       "    }\n",
       "\n",
       "    .dataframe tbody tr th {\n",
       "        vertical-align: top;\n",
       "    }\n",
       "\n",
       "    .dataframe thead th {\n",
       "        text-align: right;\n",
       "    }\n",
       "</style>\n",
       "<table border=\"1\" class=\"dataframe\">\n",
       "  <thead>\n",
       "    <tr style=\"text-align: right;\">\n",
       "      <th></th>\n",
       "      <th>Title</th>\n",
       "      <th>Location</th>\n",
       "      <th>Company</th>\n",
       "      <th>Description</th>\n",
       "    </tr>\n",
       "  </thead>\n",
       "  <tbody>\n",
       "    <tr>\n",
       "      <th>0</th>\n",
       "      <td>Senior/Lead Data Scientist</td>\n",
       "      <td>Bangalore/Bengaluru</td>\n",
       "      <td>Scienaptic Systems</td>\n",
       "      <td>5 10 years of Applied Machine learning experie...</td>\n",
       "    </tr>\n",
       "    <tr>\n",
       "      <th>1</th>\n",
       "      <td>Senior Data Scientist</td>\n",
       "      <td>Bangalore/Bengaluru</td>\n",
       "      <td>Visa</td>\n",
       "      <td>Post-graduate degree (Masters or PhD)Minimum o...</td>\n",
       "    </tr>\n",
       "    <tr>\n",
       "      <th>2</th>\n",
       "      <td>Data Scientist: Advanced Analytics</td>\n",
       "      <td>Bangalore/Bengaluru</td>\n",
       "      <td>IBM India Pvt. Limited</td>\n",
       "      <td>As a Data Scientist at IBM, you will help tran...</td>\n",
       "    </tr>\n",
       "    <tr>\n",
       "      <th>3</th>\n",
       "      <td>Digital Enterprise Architect (Data Scientist)</td>\n",
       "      <td>Bangalore/Bengaluru</td>\n",
       "      <td>Mphasis Limited</td>\n",
       "      <td>Experience working with enterprise architectur...</td>\n",
       "    </tr>\n",
       "    <tr>\n",
       "      <th>4</th>\n",
       "      <td>Data Scientist</td>\n",
       "      <td>Bangalore/Bengaluru</td>\n",
       "      <td>Intel Technology India Pvt Ltd</td>\n",
       "      <td>Must possess strong understanding of internal ...</td>\n",
       "    </tr>\n",
       "    <tr>\n",
       "      <th>5</th>\n",
       "      <td>Data Scientist</td>\n",
       "      <td>Bangalore/Bengaluru</td>\n",
       "      <td>Intel Technology India Pvt Ltd</td>\n",
       "      <td>Minimum Requirements: Bachelors Degree or high...</td>\n",
       "    </tr>\n",
       "    <tr>\n",
       "      <th>6</th>\n",
       "      <td>Senior Data Scientist</td>\n",
       "      <td>Bangalore/Bengaluru</td>\n",
       "      <td>Kwalee India Pvt Ltd.</td>\n",
       "      <td>Kwalee is one of the world's leading multiplat...</td>\n",
       "    </tr>\n",
       "    <tr>\n",
       "      <th>7</th>\n",
       "      <td>Lead - Data Scientist</td>\n",
       "      <td>Noida, Bangalore/Bengaluru</td>\n",
       "      <td>InnovAccer</td>\n",
       "      <td>Masters in Computer Science, Computer Engineer...</td>\n",
       "    </tr>\n",
       "    <tr>\n",
       "      <th>8</th>\n",
       "      <td>Lead Data Scientist</td>\n",
       "      <td>Noida, Gurgaon/Gurugram, Bangalore/Bengaluru, ...</td>\n",
       "      <td>Emmess technologies private Limited</td>\n",
       "      <td>BTECH, MBA, Post Graduate in Statistics, Econo...</td>\n",
       "    </tr>\n",
       "    <tr>\n",
       "      <th>9</th>\n",
       "      <td>Senior Data Scientist</td>\n",
       "      <td>Bangalore/Bengaluru</td>\n",
       "      <td>Visa Inc.</td>\n",
       "      <td>Bachelors degree in Statistics, Mathematics, C...</td>\n",
       "    </tr>\n",
       "  </tbody>\n",
       "</table>\n",
       "</div>"
      ],
      "text/plain": [
       "                                           Title  \\\n",
       "0                     Senior/Lead Data Scientist   \n",
       "1                          Senior Data Scientist   \n",
       "2             Data Scientist: Advanced Analytics   \n",
       "3  Digital Enterprise Architect (Data Scientist)   \n",
       "4                                 Data Scientist   \n",
       "5                                 Data Scientist   \n",
       "6                          Senior Data Scientist   \n",
       "7                          Lead - Data Scientist   \n",
       "8                            Lead Data Scientist   \n",
       "9                          Senior Data Scientist   \n",
       "\n",
       "                                            Location  \\\n",
       "0                                Bangalore/Bengaluru   \n",
       "1                                Bangalore/Bengaluru   \n",
       "2                                Bangalore/Bengaluru   \n",
       "3                                Bangalore/Bengaluru   \n",
       "4                                Bangalore/Bengaluru   \n",
       "5                                Bangalore/Bengaluru   \n",
       "6                                Bangalore/Bengaluru   \n",
       "7                         Noida, Bangalore/Bengaluru   \n",
       "8  Noida, Gurgaon/Gurugram, Bangalore/Bengaluru, ...   \n",
       "9                                Bangalore/Bengaluru   \n",
       "\n",
       "                               Company  \\\n",
       "0                   Scienaptic Systems   \n",
       "1                                 Visa   \n",
       "2               IBM India Pvt. Limited   \n",
       "3                      Mphasis Limited   \n",
       "4       Intel Technology India Pvt Ltd   \n",
       "5       Intel Technology India Pvt Ltd   \n",
       "6                Kwalee India Pvt Ltd.   \n",
       "7                           InnovAccer   \n",
       "8  Emmess technologies private Limited   \n",
       "9                            Visa Inc.   \n",
       "\n",
       "                                         Description  \n",
       "0  5 10 years of Applied Machine learning experie...  \n",
       "1  Post-graduate degree (Masters or PhD)Minimum o...  \n",
       "2  As a Data Scientist at IBM, you will help tran...  \n",
       "3  Experience working with enterprise architectur...  \n",
       "4  Must possess strong understanding of internal ...  \n",
       "5  Minimum Requirements: Bachelors Degree or high...  \n",
       "6  Kwalee is one of the world's leading multiplat...  \n",
       "7  Masters in Computer Science, Computer Engineer...  \n",
       "8  BTECH, MBA, Post Graduate in Statistics, Econo...  \n",
       "9  Bachelors degree in Statistics, Mathematics, C...  "
      ]
     },
     "execution_count": 67,
     "metadata": {},
     "output_type": "execute_result"
    }
   ],
   "source": [
    "Jobs=pd.DataFrame({})\n",
    "Jobs['Title']=Job_title[0:10]\n",
    "Jobs['Location']=Job_location[0:10]\n",
    "Jobs['Company']=Company_name[0:10]\n",
    "Jobs['Description']=Job_Description[0:10]\n",
    "Jobs"
   ]
  },
  {
   "cell_type": "markdown",
   "id": "1534d035",
   "metadata": {},
   "source": [
    "# 3. Python Program to scrape data using the filters available on the webpage"
   ]
  },
  {
   "cell_type": "code",
   "execution_count": 91,
   "id": "36ff3973",
   "metadata": {},
   "outputs": [],
   "source": [
    "driver = webdriver.Chrome(r\"C:\\Users\\KUNAL\\Downloads\\chromedriver_win32\\chromedriver.exe\")"
   ]
  },
  {
   "cell_type": "markdown",
   "id": "0fb242e5",
   "metadata": {},
   "source": [
    "Webpage used for Web Scraping"
   ]
  },
  {
   "cell_type": "code",
   "execution_count": 92,
   "id": "57a898fd",
   "metadata": {},
   "outputs": [],
   "source": [
    "driver.get('https://www.naukri.com/')"
   ]
  },
  {
   "cell_type": "markdown",
   "id": "dea267e5",
   "metadata": {},
   "source": [
    "Finding Element for Job Search Bar"
   ]
  },
  {
   "cell_type": "code",
   "execution_count": 93,
   "id": "1ec2525c",
   "metadata": {},
   "outputs": [],
   "source": [
    "search_job = driver.find_element_by_id('qsb-keyword-sugg')\n",
    "search_job.send_keys(\"Data Scientist\")"
   ]
  },
  {
   "cell_type": "code",
   "execution_count": 94,
   "id": "ca72d827",
   "metadata": {},
   "outputs": [],
   "source": [
    "search_btn = driver.find_element_by_xpath(\"//div[@class='search-btn']/button\")\n",
    "search_btn.click()"
   ]
  },
  {
   "cell_type": "markdown",
   "id": "969f10fd",
   "metadata": {},
   "source": [
    "Applying Filters for Location-- Delhi/NCR ans Salary range-- 3-6Lakhs on Web Page Results"
   ]
  },
  {
   "cell_type": "code",
   "execution_count": 99,
   "id": "f2da38aa",
   "metadata": {},
   "outputs": [],
   "source": [
    "select_location = driver.find_element_by_xpath(\"/html/body/div[1]/div[3]/div[2]/section[1]/div[2]/div[1]/div[2]/div[3]/label/i\")\n",
    "select_location.click()"
   ]
  },
  {
   "cell_type": "code",
   "execution_count": 100,
   "id": "d0e1a462",
   "metadata": {},
   "outputs": [],
   "source": [
    "select_salary = driver.find_element_by_xpath(\"/html/body/div[1]/div[3]/div[2]/section[1]/div[2]/div[4]/div[2]/div[2]/label/i\")\n",
    "select_salary.click()"
   ]
  },
  {
   "cell_type": "markdown",
   "id": "00ad6b05",
   "metadata": {},
   "source": [
    "Specifying the URL of the Webpage to be Scraped"
   ]
  },
  {
   "cell_type": "code",
   "execution_count": 101,
   "id": "22396405",
   "metadata": {},
   "outputs": [],
   "source": [
    "url = \"https://www.naukri.com/data-scientist-jobs?k=data%20scientist&cityTypeGid=9508&ctcFilter=3to6\""
   ]
  },
  {
   "cell_type": "markdown",
   "id": "3a12a1bf",
   "metadata": {},
   "source": [
    "Opening Webpage through Web Driver"
   ]
  },
  {
   "cell_type": "code",
   "execution_count": 102,
   "id": "e3cea627",
   "metadata": {},
   "outputs": [],
   "source": [
    "driver.get(url)"
   ]
  },
  {
   "cell_type": "markdown",
   "id": "7c42640e",
   "metadata": {},
   "source": [
    "Creating the 4 empty list in which data will be stored while scraping. The 4 empty list created for 4 features which is to be extracted.\n",
    "\n",
    "1.Job_title 2.Job_location 3.Company_name 4.Experience_required"
   ]
  },
  {
   "cell_type": "code",
   "execution_count": 103,
   "id": "a5c40b3a",
   "metadata": {},
   "outputs": [],
   "source": [
    "Job_title=[]\n",
    "Job_location=[]\n",
    "Company_name=[]\n",
    "Experience_required=[]"
   ]
  },
  {
   "cell_type": "markdown",
   "id": "411d6357",
   "metadata": {},
   "source": [
    "Extracting all the tags Having the Job Title"
   ]
  },
  {
   "cell_type": "code",
   "execution_count": 104,
   "id": "88ad3cbd",
   "metadata": {},
   "outputs": [
    {
     "data": {
      "text/plain": [
       "[<selenium.webdriver.remote.webelement.WebElement (session=\"f8e1614da8c5fc8965e96199beddcd2f\", element=\"369ac607-456d-4402-b4a9-37a671fa7528\")>,\n",
       " <selenium.webdriver.remote.webelement.WebElement (session=\"f8e1614da8c5fc8965e96199beddcd2f\", element=\"29bfb5bd-0e6c-4758-b374-a4a6aa4c9ce6\")>,\n",
       " <selenium.webdriver.remote.webelement.WebElement (session=\"f8e1614da8c5fc8965e96199beddcd2f\", element=\"a2ee5c20-6a74-4ec9-9ddc-08fececcea63\")>,\n",
       " <selenium.webdriver.remote.webelement.WebElement (session=\"f8e1614da8c5fc8965e96199beddcd2f\", element=\"25afb35a-392c-4e0f-b423-d33819630243\")>,\n",
       " <selenium.webdriver.remote.webelement.WebElement (session=\"f8e1614da8c5fc8965e96199beddcd2f\", element=\"546ddad9-f21a-47c7-bcaa-7342eae33733\")>]"
      ]
     },
     "execution_count": 104,
     "metadata": {},
     "output_type": "execute_result"
    }
   ],
   "source": [
    "titles_tags=driver.find_elements_by_xpath(\"//a[@class='title fw500 ellipsis']\")\n",
    "titles_tags[0:5]"
   ]
  },
  {
   "cell_type": "markdown",
   "id": "fc54191b",
   "metadata": {},
   "source": [
    "Now running a loop to extract the text from the extracted tags"
   ]
  },
  {
   "cell_type": "code",
   "execution_count": 105,
   "id": "3f34f79e",
   "metadata": {},
   "outputs": [
    {
     "data": {
      "text/plain": [
       "['Data Scientist I/II/III',\n",
       " 'Associate Data Scientist',\n",
       " 'Job Opportunity || Data Scientist || HCL Technologies',\n",
       " 'Data Scientist',\n",
       " 'Academic Counsellor - Data Scientist']"
      ]
     },
     "execution_count": 105,
     "metadata": {},
     "output_type": "execute_result"
    }
   ],
   "source": [
    "for i in titles_tags:\n",
    "    Title=i.text\n",
    "    Job_title.append(Title)\n",
    "Job_title[0:5]"
   ]
  },
  {
   "cell_type": "markdown",
   "id": "c750a14b",
   "metadata": {},
   "source": [
    "Extracting all the tags Having the Job Location"
   ]
  },
  {
   "cell_type": "code",
   "execution_count": 106,
   "id": "bc58329a",
   "metadata": {},
   "outputs": [
    {
     "data": {
      "text/plain": [
       "[<selenium.webdriver.remote.webelement.WebElement (session=\"f8e1614da8c5fc8965e96199beddcd2f\", element=\"6bf3a239-f489-4010-be61-9fcc62c3d101\")>,\n",
       " <selenium.webdriver.remote.webelement.WebElement (session=\"f8e1614da8c5fc8965e96199beddcd2f\", element=\"5d2f7469-a888-421e-9440-713d1c2c4ad7\")>,\n",
       " <selenium.webdriver.remote.webelement.WebElement (session=\"f8e1614da8c5fc8965e96199beddcd2f\", element=\"bfc1bfc3-f8cb-4e3b-8f87-3f2d66fbce69\")>,\n",
       " <selenium.webdriver.remote.webelement.WebElement (session=\"f8e1614da8c5fc8965e96199beddcd2f\", element=\"44ea9aa3-9ebd-44b6-9eb0-1032e8be7a7f\")>,\n",
       " <selenium.webdriver.remote.webelement.WebElement (session=\"f8e1614da8c5fc8965e96199beddcd2f\", element=\"a7c1b3af-d90a-43bf-80cc-5994b9981504\")>]"
      ]
     },
     "execution_count": 106,
     "metadata": {},
     "output_type": "execute_result"
    }
   ],
   "source": [
    "locations_tags=driver.find_elements_by_xpath(\"//li[@class='fleft grey-text br2 placeHolderLi location']\")\n",
    "locations_tags[0:5]"
   ]
  },
  {
   "cell_type": "markdown",
   "id": "a76f85a7",
   "metadata": {},
   "source": [
    "Running a loop to extract the text from the extracted tags"
   ]
  },
  {
   "cell_type": "code",
   "execution_count": 107,
   "id": "6ab265f4",
   "metadata": {},
   "outputs": [
    {
     "data": {
      "text/plain": [
       "['Gurgaon/Gurugram',\n",
       " 'Noida',\n",
       " 'Delhi / NCR',\n",
       " 'Gurgaon/Gurugram',\n",
       " 'Gurgaon/Gurugram, Bangalore/Bengaluru']"
      ]
     },
     "execution_count": 107,
     "metadata": {},
     "output_type": "execute_result"
    }
   ],
   "source": [
    "for i in locations_tags:\n",
    "    Location=i.text\n",
    "    Job_location.append(Location)\n",
    "Job_location[0:5]"
   ]
  },
  {
   "cell_type": "markdown",
   "id": "34eeb94a",
   "metadata": {},
   "source": [
    "Extracting all the tags Having the Company Name"
   ]
  },
  {
   "cell_type": "code",
   "execution_count": 108,
   "id": "b9d97839",
   "metadata": {},
   "outputs": [
    {
     "data": {
      "text/plain": [
       "[<selenium.webdriver.remote.webelement.WebElement (session=\"f8e1614da8c5fc8965e96199beddcd2f\", element=\"2222c2ee-3e5d-4997-91a7-b0541b67da0e\")>,\n",
       " <selenium.webdriver.remote.webelement.WebElement (session=\"f8e1614da8c5fc8965e96199beddcd2f\", element=\"b7ab7ea4-587f-44b5-a158-5431cd49c6bb\")>,\n",
       " <selenium.webdriver.remote.webelement.WebElement (session=\"f8e1614da8c5fc8965e96199beddcd2f\", element=\"46cfc25f-6662-4166-91e5-2b2899f8a509\")>,\n",
       " <selenium.webdriver.remote.webelement.WebElement (session=\"f8e1614da8c5fc8965e96199beddcd2f\", element=\"85b236f4-d8f0-47a1-b04b-af63da6262fe\")>,\n",
       " <selenium.webdriver.remote.webelement.WebElement (session=\"f8e1614da8c5fc8965e96199beddcd2f\", element=\"8f2ecd97-a37a-47e2-b291-b3aede806496\")>]"
      ]
     },
     "execution_count": 108,
     "metadata": {},
     "output_type": "execute_result"
    }
   ],
   "source": [
    "companies_tags=driver.find_elements_by_xpath(\"//a[@class='subTitle ellipsis fleft']\")\n",
    "companies_tags[0:5]"
   ]
  },
  {
   "cell_type": "markdown",
   "id": "2cf5015a",
   "metadata": {},
   "source": [
    "Running a loop to extract the text from the extracted tags"
   ]
  },
  {
   "cell_type": "code",
   "execution_count": 109,
   "id": "9f986162",
   "metadata": {},
   "outputs": [
    {
     "data": {
      "text/plain": [
       "['OLX India Pvt Ltd',\n",
       " 'Optum Global Solutions (India) Private Limited',\n",
       " 'HCL Technologies',\n",
       " 'Milliman India Pvt Ltd',\n",
       " 'GreatLearning']"
      ]
     },
     "execution_count": 109,
     "metadata": {},
     "output_type": "execute_result"
    }
   ],
   "source": [
    "for i in companies_tags:\n",
    "    Company=i.text\n",
    "    Company_name.append(Company)\n",
    "Company_name[0:5]"
   ]
  },
  {
   "cell_type": "markdown",
   "id": "d68f5b85",
   "metadata": {},
   "source": [
    "Extracting all the tags Having the Experience Required"
   ]
  },
  {
   "cell_type": "code",
   "execution_count": 110,
   "id": "93f7814b",
   "metadata": {},
   "outputs": [
    {
     "data": {
      "text/plain": [
       "[<selenium.webdriver.remote.webelement.WebElement (session=\"f8e1614da8c5fc8965e96199beddcd2f\", element=\"4ff7e714-37d9-46fe-a97d-ad7604373896\")>,\n",
       " <selenium.webdriver.remote.webelement.WebElement (session=\"f8e1614da8c5fc8965e96199beddcd2f\", element=\"b4e5d606-5019-4ade-a130-78a18e8cc2c0\")>,\n",
       " <selenium.webdriver.remote.webelement.WebElement (session=\"f8e1614da8c5fc8965e96199beddcd2f\", element=\"a1c3f48c-36e1-4e23-ad3e-f87fbb303c36\")>,\n",
       " <selenium.webdriver.remote.webelement.WebElement (session=\"f8e1614da8c5fc8965e96199beddcd2f\", element=\"65088bca-c3ba-4eb7-a379-575a326092f4\")>,\n",
       " <selenium.webdriver.remote.webelement.WebElement (session=\"f8e1614da8c5fc8965e96199beddcd2f\", element=\"99c57cdb-ae4b-4592-a7b3-2f3913063568\")>]"
      ]
     },
     "execution_count": 110,
     "metadata": {},
     "output_type": "execute_result"
    }
   ],
   "source": [
    "experience_tags=driver.find_elements_by_xpath(\"//li[@class='fleft grey-text br2 placeHolderLi experience']\")\n",
    "experience_tags[0:5]"
   ]
  },
  {
   "cell_type": "markdown",
   "id": "6dc5312d",
   "metadata": {},
   "source": [
    "Running a loop to extract the text from the extracted tags"
   ]
  },
  {
   "cell_type": "code",
   "execution_count": 111,
   "id": "a43a5530",
   "metadata": {},
   "outputs": [
    {
     "data": {
      "text/plain": [
       "['3-6 Yrs', '2-7 Yrs', '4-7 Yrs', '2-5 Yrs', '1-4 Yrs']"
      ]
     },
     "execution_count": 111,
     "metadata": {},
     "output_type": "execute_result"
    }
   ],
   "source": [
    "for i in experience_tags:\n",
    "    Experience=i.text\n",
    "    Experience_required.append(Experience)\n",
    "Experience_required[0:5]"
   ]
  },
  {
   "cell_type": "code",
   "execution_count": null,
   "id": "0b0c46dd",
   "metadata": {},
   "outputs": [],
   "source": [
    "Checking the length of each List"
   ]
  },
  {
   "cell_type": "code",
   "execution_count": 112,
   "id": "7a83737b",
   "metadata": {},
   "outputs": [
    {
     "data": {
      "text/plain": [
       "(20, 20, 20, 20)"
      ]
     },
     "execution_count": 112,
     "metadata": {},
     "output_type": "execute_result"
    }
   ],
   "source": [
    "len(Job_title),len(Job_location),len(Company_name),len(Experience_required)"
   ]
  },
  {
   "cell_type": "markdown",
   "id": "62ccf6de",
   "metadata": {},
   "source": [
    "Now creating Data Frame using the data extracted from Web Page"
   ]
  },
  {
   "cell_type": "code",
   "execution_count": 113,
   "id": "cb2d9110",
   "metadata": {},
   "outputs": [
    {
     "data": {
      "text/html": [
       "<div>\n",
       "<style scoped>\n",
       "    .dataframe tbody tr th:only-of-type {\n",
       "        vertical-align: middle;\n",
       "    }\n",
       "\n",
       "    .dataframe tbody tr th {\n",
       "        vertical-align: top;\n",
       "    }\n",
       "\n",
       "    .dataframe thead th {\n",
       "        text-align: right;\n",
       "    }\n",
       "</style>\n",
       "<table border=\"1\" class=\"dataframe\">\n",
       "  <thead>\n",
       "    <tr style=\"text-align: right;\">\n",
       "      <th></th>\n",
       "      <th>Title</th>\n",
       "      <th>Location</th>\n",
       "      <th>Company</th>\n",
       "      <th>Experience</th>\n",
       "    </tr>\n",
       "  </thead>\n",
       "  <tbody>\n",
       "    <tr>\n",
       "      <th>0</th>\n",
       "      <td>Data Scientist I/II/III</td>\n",
       "      <td>Gurgaon/Gurugram</td>\n",
       "      <td>OLX India Pvt Ltd</td>\n",
       "      <td>3-6 Yrs</td>\n",
       "    </tr>\n",
       "    <tr>\n",
       "      <th>1</th>\n",
       "      <td>Associate Data Scientist</td>\n",
       "      <td>Noida</td>\n",
       "      <td>Optum Global Solutions (India) Private Limited</td>\n",
       "      <td>2-7 Yrs</td>\n",
       "    </tr>\n",
       "    <tr>\n",
       "      <th>2</th>\n",
       "      <td>Job Opportunity || Data Scientist || HCL Techn...</td>\n",
       "      <td>Delhi / NCR</td>\n",
       "      <td>HCL Technologies</td>\n",
       "      <td>4-7 Yrs</td>\n",
       "    </tr>\n",
       "    <tr>\n",
       "      <th>3</th>\n",
       "      <td>Data Scientist</td>\n",
       "      <td>Gurgaon/Gurugram</td>\n",
       "      <td>Milliman India Pvt Ltd</td>\n",
       "      <td>2-5 Yrs</td>\n",
       "    </tr>\n",
       "    <tr>\n",
       "      <th>4</th>\n",
       "      <td>Academic Counsellor - Data Scientist</td>\n",
       "      <td>Gurgaon/Gurugram, Bangalore/Bengaluru</td>\n",
       "      <td>GreatLearning</td>\n",
       "      <td>1-4 Yrs</td>\n",
       "    </tr>\n",
       "    <tr>\n",
       "      <th>5</th>\n",
       "      <td>Data Scientist</td>\n",
       "      <td>Noida, Gurgaon/Gurugram</td>\n",
       "      <td>Optum Global Solutions (India) Private Limited</td>\n",
       "      <td>2-6 Yrs</td>\n",
       "    </tr>\n",
       "    <tr>\n",
       "      <th>6</th>\n",
       "      <td>Data Scientist I/II/III</td>\n",
       "      <td>Gurgaon/Gurugram</td>\n",
       "      <td>OLX, Inc</td>\n",
       "      <td>3-6 Yrs</td>\n",
       "    </tr>\n",
       "    <tr>\n",
       "      <th>7</th>\n",
       "      <td>Data Scientist Internship</td>\n",
       "      <td>New Delhi</td>\n",
       "      <td>iHackers Inc</td>\n",
       "      <td>0-1 Yrs</td>\n",
       "    </tr>\n",
       "    <tr>\n",
       "      <th>8</th>\n",
       "      <td>Data Scientist</td>\n",
       "      <td>Gurgaon/Gurugram</td>\n",
       "      <td>NatWest Group</td>\n",
       "      <td>2-7 Yrs</td>\n",
       "    </tr>\n",
       "    <tr>\n",
       "      <th>9</th>\n",
       "      <td>Data Scientist - Insights For Delhi (SQL needed)</td>\n",
       "      <td>Delhi / NCR(Sarita Vihar)\\n(WFH during Covid)</td>\n",
       "      <td>CAASTLE TECHNOLOGY AND SERVICES INDIA PVT. LTD.</td>\n",
       "      <td>2-5 Yrs</td>\n",
       "    </tr>\n",
       "  </tbody>\n",
       "</table>\n",
       "</div>"
      ],
      "text/plain": [
       "                                               Title  \\\n",
       "0                            Data Scientist I/II/III   \n",
       "1                           Associate Data Scientist   \n",
       "2  Job Opportunity || Data Scientist || HCL Techn...   \n",
       "3                                     Data Scientist   \n",
       "4               Academic Counsellor - Data Scientist   \n",
       "5                                     Data Scientist   \n",
       "6                            Data Scientist I/II/III   \n",
       "7                          Data Scientist Internship   \n",
       "8                                     Data Scientist   \n",
       "9   Data Scientist - Insights For Delhi (SQL needed)   \n",
       "\n",
       "                                        Location  \\\n",
       "0                               Gurgaon/Gurugram   \n",
       "1                                          Noida   \n",
       "2                                    Delhi / NCR   \n",
       "3                               Gurgaon/Gurugram   \n",
       "4          Gurgaon/Gurugram, Bangalore/Bengaluru   \n",
       "5                        Noida, Gurgaon/Gurugram   \n",
       "6                               Gurgaon/Gurugram   \n",
       "7                                      New Delhi   \n",
       "8                               Gurgaon/Gurugram   \n",
       "9  Delhi / NCR(Sarita Vihar)\\n(WFH during Covid)   \n",
       "\n",
       "                                           Company Experience  \n",
       "0                                OLX India Pvt Ltd    3-6 Yrs  \n",
       "1   Optum Global Solutions (India) Private Limited    2-7 Yrs  \n",
       "2                                 HCL Technologies    4-7 Yrs  \n",
       "3                           Milliman India Pvt Ltd    2-5 Yrs  \n",
       "4                                    GreatLearning    1-4 Yrs  \n",
       "5   Optum Global Solutions (India) Private Limited    2-6 Yrs  \n",
       "6                                         OLX, Inc    3-6 Yrs  \n",
       "7                                     iHackers Inc    0-1 Yrs  \n",
       "8                                    NatWest Group    2-7 Yrs  \n",
       "9  CAASTLE TECHNOLOGY AND SERVICES INDIA PVT. LTD.    2-5 Yrs  "
      ]
     },
     "execution_count": 113,
     "metadata": {},
     "output_type": "execute_result"
    }
   ],
   "source": [
    "Jobs=pd.DataFrame({})\n",
    "Jobs['Title']=Job_title[0:10]\n",
    "Jobs['Location']=Job_location[0:10]\n",
    "Jobs['Company']=Company_name[0:10]\n",
    "Jobs['Experience']=Experience_required[0:10]\n",
    "Jobs"
   ]
  },
  {
   "cell_type": "markdown",
   "id": "c173a18c",
   "metadata": {},
   "source": [
    "# 4. Python program to scrape data for first 10 job results for Data scientist Designation in Noida location"
   ]
  },
  {
   "cell_type": "code",
   "execution_count": 55,
   "id": "c3c0a15e",
   "metadata": {},
   "outputs": [],
   "source": [
    "driver = webdriver.Chrome(r\"C:\\Users\\KUNAL\\Downloads\\chromedriver_win32\\chromedriver.exe\")"
   ]
  },
  {
   "cell_type": "markdown",
   "id": "acc831d6",
   "metadata": {},
   "source": [
    "Webpage used for Web Scraping"
   ]
  },
  {
   "cell_type": "code",
   "execution_count": 56,
   "id": "6e0df305",
   "metadata": {},
   "outputs": [],
   "source": [
    "driver.get('https://www.glassdoor.co.in/index.htm')"
   ]
  },
  {
   "cell_type": "markdown",
   "id": "a0c5ade1",
   "metadata": {},
   "source": [
    "Finding Element for Job Search Bar"
   ]
  },
  {
   "cell_type": "code",
   "execution_count": 59,
   "id": "4cba2869",
   "metadata": {},
   "outputs": [],
   "source": [
    "search_job = driver.find_element_by_id('sc.keyword')\n",
    "search_job.send_keys(\"Data Scientist\")\n",
    "search_loc = driver.find_element_by_xpath(\"//input[@id='sc.location']\")\n",
    "search_loc.send_keys(\"Noida\")"
   ]
  },
  {
   "cell_type": "code",
   "execution_count": 60,
   "id": "4e2cc991",
   "metadata": {},
   "outputs": [],
   "source": [
    "search_btn = driver.find_element_by_xpath(\"/html/body/header/nav[1]/div/div/div/div[4]/div[2]/form/div/button\")\n",
    "search_btn.click()"
   ]
  },
  {
   "cell_type": "markdown",
   "id": "71ca49fa",
   "metadata": {},
   "source": [
    "Specifying the URL of the Webpage to be Scraped"
   ]
  },
  {
   "cell_type": "code",
   "execution_count": 61,
   "id": "871429f2",
   "metadata": {},
   "outputs": [],
   "source": [
    "url = \"https://www.glassdoor.co.in/Job/noida-data-scientist-jobs-SRCH_IL.0,5_IC4477468_KO6,20.htm\""
   ]
  },
  {
   "cell_type": "markdown",
   "id": "e1120ccd",
   "metadata": {},
   "source": [
    "Opening Webpage through Web Driver"
   ]
  },
  {
   "cell_type": "code",
   "execution_count": 62,
   "id": "ca85ace4",
   "metadata": {},
   "outputs": [],
   "source": [
    "driver.get(url)"
   ]
  },
  {
   "cell_type": "markdown",
   "id": "77abfbec",
   "metadata": {},
   "source": [
    "Creating the 3 empty list in which data will be stored while scraping. The 3 empty list created for 3 features which is to be extracted.\n",
    "\n",
    "1. Company_name 2.No of Days of job posted 3. Company Rating"
   ]
  },
  {
   "cell_type": "code",
   "execution_count": 63,
   "id": "d0b8e7cb",
   "metadata": {},
   "outputs": [],
   "source": [
    "Company_name=[]\n",
    "No_of_Days_Ago=[]\n",
    "Company_rating=[]"
   ]
  },
  {
   "cell_type": "markdown",
   "id": "8c1ec355",
   "metadata": {},
   "source": [
    "Extracting all the tags Having the Company Name"
   ]
  },
  {
   "cell_type": "code",
   "execution_count": 64,
   "id": "0eebe4ae",
   "metadata": {},
   "outputs": [
    {
     "data": {
      "text/plain": [
       "[<selenium.webdriver.remote.webelement.WebElement (session=\"2df5f97b96740405b825a714d1880e48\", element=\"850d05a4-5885-4819-81c5-1f830597864c\")>,\n",
       " <selenium.webdriver.remote.webelement.WebElement (session=\"2df5f97b96740405b825a714d1880e48\", element=\"6dc1b0b9-c917-4469-9c91-e3f183b98045\")>,\n",
       " <selenium.webdriver.remote.webelement.WebElement (session=\"2df5f97b96740405b825a714d1880e48\", element=\"561befac-cf1b-4123-a638-21d8b0cea11b\")>,\n",
       " <selenium.webdriver.remote.webelement.WebElement (session=\"2df5f97b96740405b825a714d1880e48\", element=\"6904755f-91b9-4c16-8759-b4d28aaa8db5\")>,\n",
       " <selenium.webdriver.remote.webelement.WebElement (session=\"2df5f97b96740405b825a714d1880e48\", element=\"d9e1ab1f-fa35-4341-b836-0ec3cb042621\")>]"
      ]
     },
     "execution_count": 64,
     "metadata": {},
     "output_type": "execute_result"
    }
   ],
   "source": [
    "companies_tags=driver.find_elements_by_xpath(\"//div[@class='d-flex justify-content-between align-items-start']\")\n",
    "companies_tags[0:5]"
   ]
  },
  {
   "cell_type": "markdown",
   "id": "0368f5cd",
   "metadata": {},
   "source": [
    "Running a loop to extract the text from the extracted tags"
   ]
  },
  {
   "cell_type": "code",
   "execution_count": 65,
   "id": "66fc6dcd",
   "metadata": {},
   "outputs": [
    {
     "data": {
      "text/plain": [
       "['UnitedHealth Group', 'Optum - India', 'Ericsson', 'Crowe', '']"
      ]
     },
     "execution_count": 65,
     "metadata": {},
     "output_type": "execute_result"
    }
   ],
   "source": [
    "for i in companies_tags[0:10]:\n",
    "    Company=i.text\n",
    "    Company_name.append(Company)\n",
    "Company_name[0:5]"
   ]
  },
  {
   "cell_type": "markdown",
   "id": "0e0110fa",
   "metadata": {},
   "source": [
    "Extracting all the tags Having No of Days ago the job posted"
   ]
  },
  {
   "cell_type": "code",
   "execution_count": 66,
   "id": "8f703dd8",
   "metadata": {},
   "outputs": [
    {
     "data": {
      "text/plain": [
       "[<selenium.webdriver.remote.webelement.WebElement (session=\"2df5f97b96740405b825a714d1880e48\", element=\"2a40eeb2-2c54-4b1c-8338-e49bf5619b4a\")>,\n",
       " <selenium.webdriver.remote.webelement.WebElement (session=\"2df5f97b96740405b825a714d1880e48\", element=\"26126787-0d2d-479b-ae7d-0d4f4b13ed82\")>,\n",
       " <selenium.webdriver.remote.webelement.WebElement (session=\"2df5f97b96740405b825a714d1880e48\", element=\"b5a7bf67-5189-4fcc-b584-48cfd36bad5c\")>,\n",
       " <selenium.webdriver.remote.webelement.WebElement (session=\"2df5f97b96740405b825a714d1880e48\", element=\"a919ae0c-1bc1-47c0-8c8d-9a634a0321a5\")>,\n",
       " <selenium.webdriver.remote.webelement.WebElement (session=\"2df5f97b96740405b825a714d1880e48\", element=\"29f50f19-78a7-46c0-8c15-fa175bb00b87\")>]"
      ]
     },
     "execution_count": 66,
     "metadata": {},
     "output_type": "execute_result"
    }
   ],
   "source": [
    "days_tags=driver.find_elements_by_xpath(\"//div[@class='d-flex align-items-end pl-std css-17n8uzw']\")\n",
    "days_tags[0:5]"
   ]
  },
  {
   "cell_type": "markdown",
   "id": "43646d5d",
   "metadata": {},
   "source": [
    "Running a loop to extract the text from the extracted tags"
   ]
  },
  {
   "cell_type": "code",
   "execution_count": 67,
   "id": "da9dbfa2",
   "metadata": {},
   "outputs": [
    {
     "data": {
      "text/plain": [
       "['1d', '17d', '8d', '8d', '30d+']"
      ]
     },
     "execution_count": 67,
     "metadata": {},
     "output_type": "execute_result"
    }
   ],
   "source": [
    "for i in days_tags[0:10]:\n",
    "    Day=i.text\n",
    "    No_of_Days_Ago.append(Day)\n",
    "No_of_Days_Ago[0:5]"
   ]
  },
  {
   "cell_type": "code",
   "execution_count": null,
   "id": "02a95604",
   "metadata": {},
   "outputs": [],
   "source": [
    "Extracting all the tags Having Company Rating"
   ]
  },
  {
   "cell_type": "code",
   "execution_count": 68,
   "id": "2cdd38e5",
   "metadata": {},
   "outputs": [
    {
     "data": {
      "text/plain": [
       "[<selenium.webdriver.remote.webelement.WebElement (session=\"2df5f97b96740405b825a714d1880e48\", element=\"1140de4f-57cb-4a3e-9c3f-cd6097332f46\")>,\n",
       " <selenium.webdriver.remote.webelement.WebElement (session=\"2df5f97b96740405b825a714d1880e48\", element=\"05e97e04-9624-4252-a98f-e59ba96033c6\")>,\n",
       " <selenium.webdriver.remote.webelement.WebElement (session=\"2df5f97b96740405b825a714d1880e48\", element=\"1b39e95e-83ae-4059-a606-c4e12158df7b\")>,\n",
       " <selenium.webdriver.remote.webelement.WebElement (session=\"2df5f97b96740405b825a714d1880e48\", element=\"fa0e195c-18e5-46e0-81f0-c0e3991da504\")>,\n",
       " <selenium.webdriver.remote.webelement.WebElement (session=\"2df5f97b96740405b825a714d1880e48\", element=\"7372e661-d925-46b3-b52b-032fe1e7e804\")>]"
      ]
     },
     "execution_count": 68,
     "metadata": {},
     "output_type": "execute_result"
    }
   ],
   "source": [
    "ratings_tags=driver.find_elements_by_xpath(\"//span[@class=' job-search-key-srfzj0 e1cjmv6j0']\")\n",
    "ratings_tags[0:5]"
   ]
  },
  {
   "cell_type": "markdown",
   "id": "d9b7dc4c",
   "metadata": {},
   "source": [
    "Running a loop to extract the text from the extracted tags"
   ]
  },
  {
   "cell_type": "code",
   "execution_count": 69,
   "id": "0254240d",
   "metadata": {},
   "outputs": [
    {
     "data": {
      "text/plain": [
       "['3.7', '4.2', '3.8', '3.7', '3.7']"
      ]
     },
     "execution_count": 69,
     "metadata": {},
     "output_type": "execute_result"
    }
   ],
   "source": [
    "for i in ratings_tags[0:10]:\n",
    "    Rating=i.text\n",
    "    Company_rating.append(Rating)\n",
    "Company_rating[0:5]"
   ]
  },
  {
   "cell_type": "code",
   "execution_count": 70,
   "id": "162743b4",
   "metadata": {},
   "outputs": [
    {
     "data": {
      "text/plain": [
       "(10, 10, 10)"
      ]
     },
     "execution_count": 70,
     "metadata": {},
     "output_type": "execute_result"
    }
   ],
   "source": [
    "len(Company_name),len(No_of_Days_Ago),len(Company_rating)"
   ]
  },
  {
   "cell_type": "code",
   "execution_count": 71,
   "id": "ee582738",
   "metadata": {},
   "outputs": [
    {
     "data": {
      "text/html": [
       "<div>\n",
       "<style scoped>\n",
       "    .dataframe tbody tr th:only-of-type {\n",
       "        vertical-align: middle;\n",
       "    }\n",
       "\n",
       "    .dataframe tbody tr th {\n",
       "        vertical-align: top;\n",
       "    }\n",
       "\n",
       "    .dataframe thead th {\n",
       "        text-align: right;\n",
       "    }\n",
       "</style>\n",
       "<table border=\"1\" class=\"dataframe\">\n",
       "  <thead>\n",
       "    <tr style=\"text-align: right;\">\n",
       "      <th></th>\n",
       "      <th>Company</th>\n",
       "      <th>No of Days Ago job Posted</th>\n",
       "      <th>Company Rating</th>\n",
       "    </tr>\n",
       "  </thead>\n",
       "  <tbody>\n",
       "    <tr>\n",
       "      <th>0</th>\n",
       "      <td>UnitedHealth Group</td>\n",
       "      <td>1d</td>\n",
       "      <td>3.7</td>\n",
       "    </tr>\n",
       "    <tr>\n",
       "      <th>1</th>\n",
       "      <td>Optum - India</td>\n",
       "      <td>17d</td>\n",
       "      <td>4.2</td>\n",
       "    </tr>\n",
       "    <tr>\n",
       "      <th>2</th>\n",
       "      <td>Ericsson</td>\n",
       "      <td>8d</td>\n",
       "      <td>3.8</td>\n",
       "    </tr>\n",
       "    <tr>\n",
       "      <th>3</th>\n",
       "      <td>Crowe</td>\n",
       "      <td>8d</td>\n",
       "      <td>3.7</td>\n",
       "    </tr>\n",
       "    <tr>\n",
       "      <th>4</th>\n",
       "      <td></td>\n",
       "      <td>30d+</td>\n",
       "      <td>3.7</td>\n",
       "    </tr>\n",
       "    <tr>\n",
       "      <th>5</th>\n",
       "      <td>Techlive</td>\n",
       "      <td>30d+</td>\n",
       "      <td>4.2</td>\n",
       "    </tr>\n",
       "    <tr>\n",
       "      <th>6</th>\n",
       "      <td>UnitedHealth Group</td>\n",
       "      <td>3d</td>\n",
       "      <td>3.3</td>\n",
       "    </tr>\n",
       "    <tr>\n",
       "      <th>7</th>\n",
       "      <td>UnitedHealth Group</td>\n",
       "      <td>17d</td>\n",
       "      <td>3.7</td>\n",
       "    </tr>\n",
       "    <tr>\n",
       "      <th>8</th>\n",
       "      <td>Biz2Credit Inc</td>\n",
       "      <td>30d+</td>\n",
       "      <td>3.3</td>\n",
       "    </tr>\n",
       "    <tr>\n",
       "      <th>9</th>\n",
       "      <td>Liberin Technologies Private Limited</td>\n",
       "      <td>30d+</td>\n",
       "      <td>3.6</td>\n",
       "    </tr>\n",
       "  </tbody>\n",
       "</table>\n",
       "</div>"
      ],
      "text/plain": [
       "                                Company No of Days Ago job Posted  \\\n",
       "0                    UnitedHealth Group                        1d   \n",
       "1                         Optum - India                       17d   \n",
       "2                              Ericsson                        8d   \n",
       "3                                 Crowe                        8d   \n",
       "4                                                            30d+   \n",
       "5                              Techlive                      30d+   \n",
       "6                    UnitedHealth Group                        3d   \n",
       "7                    UnitedHealth Group                       17d   \n",
       "8                        Biz2Credit Inc                      30d+   \n",
       "9  Liberin Technologies Private Limited                      30d+   \n",
       "\n",
       "  Company Rating  \n",
       "0            3.7  \n",
       "1            4.2  \n",
       "2            3.8  \n",
       "3            3.7  \n",
       "4            3.7  \n",
       "5            4.2  \n",
       "6            3.3  \n",
       "7            3.7  \n",
       "8            3.3  \n",
       "9            3.6  "
      ]
     },
     "execution_count": 71,
     "metadata": {},
     "output_type": "execute_result"
    }
   ],
   "source": [
    "Jobs=pd.DataFrame({})\n",
    "Jobs['Company']=Company_name\n",
    "Jobs['No of Days Ago job Posted']=No_of_Days_Ago\n",
    "Jobs['Company Rating']=Company_rating\n",
    "Jobs"
   ]
  },
  {
   "cell_type": "code",
   "execution_count": 78,
   "id": "a474ac91",
   "metadata": {},
   "outputs": [],
   "source": [
    "import selenium\n",
    "import pandas as pd\n",
    "from selenium import webdriver"
   ]
  },
  {
   "cell_type": "markdown",
   "id": "e848d5e6",
   "metadata": {},
   "source": [
    "# 5. Python program to scrape the salary data for Data Scientist designation in Noida location"
   ]
  },
  {
   "cell_type": "code",
   "execution_count": 194,
   "id": "3b68f31d",
   "metadata": {},
   "outputs": [],
   "source": [
    "driver = webdriver.Chrome(r\"C:\\Users\\KUNAL\\Downloads\\chromedriver_win32\\chromedriver.exe\")"
   ]
  },
  {
   "cell_type": "markdown",
   "id": "5cd88a57",
   "metadata": {},
   "source": [
    "Webpage used for Web Scraping"
   ]
  },
  {
   "cell_type": "code",
   "execution_count": 195,
   "id": "550bbbd9",
   "metadata": {},
   "outputs": [],
   "source": [
    "driver.get('https://www.glassdoor.co.in/Salaries/index.htm')"
   ]
  },
  {
   "cell_type": "markdown",
   "id": "d9f3d034",
   "metadata": {},
   "source": [
    "Finding Element for Job Search Bar"
   ]
  },
  {
   "cell_type": "code",
   "execution_count": 196,
   "id": "ba088e9e",
   "metadata": {},
   "outputs": [],
   "source": [
    "search_job = driver.find_element_by_id('KeywordSearch')\n",
    "search_job.send_keys(\"Data Scientist\")\n",
    "search_loc = driver.find_element_by_xpath(\"//input[@id='LocationSearch']\")\n",
    "search_loc.send_keys(\"Noida\")"
   ]
  },
  {
   "cell_type": "code",
   "execution_count": 197,
   "id": "f3f664bd",
   "metadata": {},
   "outputs": [],
   "source": [
    "search_btn = driver.find_element_by_xpath(\"/html/body/div[3]/div/div[1]/div[1]/div/div/form/button\")\n",
    "search_btn.click()"
   ]
  },
  {
   "cell_type": "markdown",
   "id": "5ad6cd27",
   "metadata": {},
   "source": [
    "Specifying the URL of the Webpage to be Scraped"
   ]
  },
  {
   "cell_type": "code",
   "execution_count": 198,
   "id": "7f3fbfb5",
   "metadata": {},
   "outputs": [],
   "source": [
    "url = \"https://www.glassdoor.co.in/Salaries/new-delhi-data-scientist-salary-SRCH_IL.0,9_IM1083_KO10,24.htm?clickSource=searchBtn\""
   ]
  },
  {
   "cell_type": "code",
   "execution_count": 199,
   "id": "40aecdaa",
   "metadata": {},
   "outputs": [],
   "source": [
    "driver.get(url)"
   ]
  },
  {
   "cell_type": "markdown",
   "id": "c15ac448",
   "metadata": {},
   "source": [
    "Creating the 5 empty list in which data will be stored while scraping.\n",
    "The 5 empty list created for  features which is to be extracted.\n",
    "\n",
    "1.Company_name  2.No_of_Salaries  3.Average_salary  4.Min_salary 5.Max_salary"
   ]
  },
  {
   "cell_type": "code",
   "execution_count": 200,
   "id": "7f5a6b8a",
   "metadata": {},
   "outputs": [],
   "source": [
    "Company_name=[]\n",
    "Min_salary=[]\n",
    "Max_salary=[]\n",
    "Average_salary=[]\n",
    "Company_rating=[]"
   ]
  },
  {
   "cell_type": "markdown",
   "id": "e7ac0a0c",
   "metadata": {},
   "source": [
    "Extracting all the tags Having the Company Name"
   ]
  },
  {
   "cell_type": "code",
   "execution_count": 201,
   "id": "bc8e92cb",
   "metadata": {},
   "outputs": [
    {
     "data": {
      "text/plain": [
       "[<selenium.webdriver.remote.webelement.WebElement (session=\"0b43562f6240858f18bf2c329691601a\", element=\"5b6fc645-4fd4-42e6-b7b5-ff5eaee1c92e\")>,\n",
       " <selenium.webdriver.remote.webelement.WebElement (session=\"0b43562f6240858f18bf2c329691601a\", element=\"3d207d02-b756-4fdd-9aa8-0a4debc4589f\")>,\n",
       " <selenium.webdriver.remote.webelement.WebElement (session=\"0b43562f6240858f18bf2c329691601a\", element=\"a7107c44-6757-4572-9d5a-791cea6cf4a7\")>,\n",
       " <selenium.webdriver.remote.webelement.WebElement (session=\"0b43562f6240858f18bf2c329691601a\", element=\"6274c427-c799-4944-b315-e2e2103d5b98\")>,\n",
       " <selenium.webdriver.remote.webelement.WebElement (session=\"0b43562f6240858f18bf2c329691601a\", element=\"1b8bda15-7ce9-424f-b708-618ee4f3a31c\")>]"
      ]
     },
     "execution_count": 201,
     "metadata": {},
     "output_type": "execute_result"
    }
   ],
   "source": [
    "companies_tags=driver.find_elements_by_xpath(\"//a[@class='css-f3vw95 e1aj7ssy3']\")\n",
    "companies_tags[0:5]"
   ]
  },
  {
   "cell_type": "markdown",
   "id": "81c27cb7",
   "metadata": {},
   "source": [
    "Running a loop to extract the text from the extracted tags"
   ]
  },
  {
   "cell_type": "code",
   "execution_count": 202,
   "id": "7cdd9b53",
   "metadata": {},
   "outputs": [
    {
     "data": {
      "text/plain": [
       "['Tata Consultancy Services',\n",
       " 'IBM',\n",
       " 'Accenture',\n",
       " 'Ericsson-Worldwide',\n",
       " 'Delhivery']"
      ]
     },
     "execution_count": 202,
     "metadata": {},
     "output_type": "execute_result"
    }
   ],
   "source": [
    "for i in companies_tags[0:10]:\n",
    "    Company=i.text\n",
    "    Company_name.append(Company)\n",
    "Company_name[0:5]"
   ]
  },
  {
   "cell_type": "markdown",
   "id": "3152ca65",
   "metadata": {},
   "source": [
    "Extracting all the tags Having Minimum and Maximum Salary Ranges"
   ]
  },
  {
   "cell_type": "code",
   "execution_count": 203,
   "id": "2c1801f1",
   "metadata": {},
   "outputs": [
    {
     "data": {
      "text/plain": [
       "[<selenium.webdriver.remote.webelement.WebElement (session=\"0b43562f6240858f18bf2c329691601a\", element=\"e4bbaaf0-99e6-4275-ad8d-1694ae851f0b\")>,\n",
       " <selenium.webdriver.remote.webelement.WebElement (session=\"0b43562f6240858f18bf2c329691601a\", element=\"9c37c583-690b-42fa-aadb-838eac9fff75\")>,\n",
       " <selenium.webdriver.remote.webelement.WebElement (session=\"0b43562f6240858f18bf2c329691601a\", element=\"6c8912cd-e3d8-458f-aaeb-1ed76401aab6\")>,\n",
       " <selenium.webdriver.remote.webelement.WebElement (session=\"0b43562f6240858f18bf2c329691601a\", element=\"f426ab16-cb82-4523-be12-0ff39639fe7d\")>,\n",
       " <selenium.webdriver.remote.webelement.WebElement (session=\"0b43562f6240858f18bf2c329691601a\", element=\"dac4652f-131d-4d5e-ab18-aeffed70cca9\")>]"
      ]
     },
     "execution_count": 203,
     "metadata": {},
     "output_type": "execute_result"
    }
   ],
   "source": [
    "minmaxslry_tags=driver.find_elements_by_xpath(\"//div[@class='d-none d-lg-flex col-2 align-items-center']\")\n",
    "minmaxslry_tags[0:5]"
   ]
  },
  {
   "cell_type": "markdown",
   "id": "06613006",
   "metadata": {},
   "source": [
    "Running a loop to extract the text from the extracted tags"
   ]
  },
  {
   "cell_type": "code",
   "execution_count": 204,
   "id": "499971be",
   "metadata": {},
   "outputs": [],
   "source": [
    "minmaxslry=[]\n",
    "for i in minmaxslry_tags[0:10]:\n",
    "    minmaxslry.append(i.text)"
   ]
  },
  {
   "cell_type": "code",
   "execution_count": 205,
   "id": "6c3a80d3",
   "metadata": {},
   "outputs": [
    {
     "data": {
      "text/plain": [
       "['₹4L\\n₹13L',\n",
       " '₹1L\\n₹28L',\n",
       " '₹6L\\n₹23L',\n",
       " '₹4L\\n₹17L',\n",
       " '₹5L\\n₹1Cr',\n",
       " '₹8L\\n₹16L',\n",
       " '₹6L\\n₹20L',\n",
       " '₹8L\\n₹20L',\n",
       " '₹2L\\n₹22L',\n",
       " '₹10L\\n₹18L']"
      ]
     },
     "execution_count": 205,
     "metadata": {},
     "output_type": "execute_result"
    }
   ],
   "source": [
    "minmaxslry"
   ]
  },
  {
   "cell_type": "markdown",
   "id": "ecee1366",
   "metadata": {},
   "source": [
    "Running a loop to split Min. and Max Salary"
   ]
  },
  {
   "cell_type": "code",
   "execution_count": 206,
   "id": "9ed2dedd",
   "metadata": {},
   "outputs": [],
   "source": [
    "for i in minmaxslry:\n",
    "    Min_salary.append(i.split(\"\\n\")[0])\n",
    "    Max_salary.append(i.split(\"\\n\")[1])"
   ]
  },
  {
   "cell_type": "code",
   "execution_count": 181,
   "id": "7a37a8a9",
   "metadata": {},
   "outputs": [
    {
     "data": {
      "text/plain": [
       "['₹4L', '₹1L', '₹6L', '₹4L', '₹5L', '₹8L', '₹6L', '₹8L', '₹2L', '₹10L']"
      ]
     },
     "execution_count": 181,
     "metadata": {},
     "output_type": "execute_result"
    }
   ],
   "source": [
    "Min_salary"
   ]
  },
  {
   "cell_type": "code",
   "execution_count": 207,
   "id": "afe6b77a",
   "metadata": {},
   "outputs": [
    {
     "data": {
      "text/plain": [
       "['₹13L',\n",
       " '₹28L',\n",
       " '₹23L',\n",
       " '₹17L',\n",
       " '₹1Cr',\n",
       " '₹16L',\n",
       " '₹20L',\n",
       " '₹20L',\n",
       " '₹22L',\n",
       " '₹18L']"
      ]
     },
     "execution_count": 207,
     "metadata": {},
     "output_type": "execute_result"
    }
   ],
   "source": [
    "Max_salary"
   ]
  },
  {
   "cell_type": "code",
   "execution_count": null,
   "id": "03b7a651",
   "metadata": {},
   "outputs": [],
   "source": [
    "Extracting all the tags Having Average Salary"
   ]
  },
  {
   "cell_type": "code",
   "execution_count": 208,
   "id": "9b205c62",
   "metadata": {},
   "outputs": [
    {
     "data": {
      "text/plain": [
       "[<selenium.webdriver.remote.webelement.WebElement (session=\"0b43562f6240858f18bf2c329691601a\", element=\"847c4aa8-0cec-4158-aee1-fd6c9ef66cc6\")>,\n",
       " <selenium.webdriver.remote.webelement.WebElement (session=\"0b43562f6240858f18bf2c329691601a\", element=\"01b1e86d-998f-4246-a473-fd0a4c010bcb\")>,\n",
       " <selenium.webdriver.remote.webelement.WebElement (session=\"0b43562f6240858f18bf2c329691601a\", element=\"7d59600e-b323-413e-9e0f-ed8495148dc8\")>,\n",
       " <selenium.webdriver.remote.webelement.WebElement (session=\"0b43562f6240858f18bf2c329691601a\", element=\"cafa3376-c68e-408a-bda1-04233902925b\")>,\n",
       " <selenium.webdriver.remote.webelement.WebElement (session=\"0b43562f6240858f18bf2c329691601a\", element=\"ed19e4cc-bd0b-47d5-afe9-fd727d3c59ca\")>]"
      ]
     },
     "execution_count": 208,
     "metadata": {},
     "output_type": "execute_result"
    }
   ],
   "source": [
    "avgslry_tags=driver.find_elements_by_xpath(\"//div[@class='col-12 col-lg-4 px-lg-0 d-flex align-items-baseline']\")\n",
    "avgslry_tags[0:5]"
   ]
  },
  {
   "cell_type": "markdown",
   "id": "f242b514",
   "metadata": {},
   "source": [
    "Running a loop to extract the text from the extracted tags"
   ]
  },
  {
   "cell_type": "code",
   "execution_count": 209,
   "id": "d3bce021",
   "metadata": {},
   "outputs": [
    {
     "data": {
      "text/plain": [
       "['₹6,31,184 /yr',\n",
       " '₹9,08,246 /yr',\n",
       " '₹12,13,338 /yr',\n",
       " '₹7,61,766 /yr',\n",
       " '₹12,49,716 /yr']"
      ]
     },
     "execution_count": 209,
     "metadata": {},
     "output_type": "execute_result"
    }
   ],
   "source": [
    "for i in avgslry_tags[0:10]:\n",
    "    Average_salary.append(i.text.replace(\"\\n\",\"\"))\n",
    "Average_salary[0:5]"
   ]
  },
  {
   "cell_type": "markdown",
   "id": "daf64e18",
   "metadata": {},
   "source": [
    "Extracting all the tags Having Company ratings"
   ]
  },
  {
   "cell_type": "code",
   "execution_count": 210,
   "id": "06189e44",
   "metadata": {},
   "outputs": [
    {
     "data": {
      "text/plain": [
       "[<selenium.webdriver.remote.webelement.WebElement (session=\"0b43562f6240858f18bf2c329691601a\", element=\"57f109dd-100a-441f-ad97-9e4b0a4b6924\")>,\n",
       " <selenium.webdriver.remote.webelement.WebElement (session=\"0b43562f6240858f18bf2c329691601a\", element=\"01525810-27ae-4455-8826-538266f94951\")>,\n",
       " <selenium.webdriver.remote.webelement.WebElement (session=\"0b43562f6240858f18bf2c329691601a\", element=\"87615e7c-0266-4327-840c-3e08dcc089ae\")>,\n",
       " <selenium.webdriver.remote.webelement.WebElement (session=\"0b43562f6240858f18bf2c329691601a\", element=\"ea2bfe6b-a262-45ca-a850-9e2e41384018\")>,\n",
       " <selenium.webdriver.remote.webelement.WebElement (session=\"0b43562f6240858f18bf2c329691601a\", element=\"35f9103c-10e4-49e9-903d-204ea49f24b5\")>]"
      ]
     },
     "execution_count": 210,
     "metadata": {},
     "output_type": "execute_result"
    }
   ],
   "source": [
    "ratings_tags=driver.find_elements_by_xpath(\"//span[@class='m-0 css-kyx745']\")\n",
    "ratings_tags[0:5]"
   ]
  },
  {
   "cell_type": "markdown",
   "id": "96da6cdc",
   "metadata": {},
   "source": [
    "Running a loop to extract the text from the extracted tags"
   ]
  },
  {
   "cell_type": "code",
   "execution_count": 211,
   "id": "b58095f5",
   "metadata": {},
   "outputs": [
    {
     "data": {
      "text/plain": [
       "['3.9', '3.9', '4.1', '4', '3.7']"
      ]
     },
     "execution_count": 211,
     "metadata": {},
     "output_type": "execute_result"
    }
   ],
   "source": [
    "for i in ratings_tags[0:10]:\n",
    "    Company_rating.append(i.text)\n",
    "Company_rating[0:5]"
   ]
  },
  {
   "cell_type": "code",
   "execution_count": 213,
   "id": "a3e057a9",
   "metadata": {},
   "outputs": [
    {
     "data": {
      "text/plain": [
       "10"
      ]
     },
     "execution_count": 213,
     "metadata": {},
     "output_type": "execute_result"
    }
   ],
   "source": [
    "len(Company_name)\n",
    "len(Min_salary)\n",
    "len(Max_salary)\n",
    "len(Average_salary)\n",
    "len(Company_rating)"
   ]
  },
  {
   "cell_type": "code",
   "execution_count": null,
   "id": "cffea050",
   "metadata": {},
   "outputs": [],
   "source": [
    "Now creating Dataframe using extracted data from webpage"
   ]
  },
  {
   "cell_type": "code",
   "execution_count": 214,
   "id": "de48bcfb",
   "metadata": {},
   "outputs": [
    {
     "data": {
      "text/html": [
       "<div>\n",
       "<style scoped>\n",
       "    .dataframe tbody tr th:only-of-type {\n",
       "        vertical-align: middle;\n",
       "    }\n",
       "\n",
       "    .dataframe tbody tr th {\n",
       "        vertical-align: top;\n",
       "    }\n",
       "\n",
       "    .dataframe thead th {\n",
       "        text-align: right;\n",
       "    }\n",
       "</style>\n",
       "<table border=\"1\" class=\"dataframe\">\n",
       "  <thead>\n",
       "    <tr style=\"text-align: right;\">\n",
       "      <th></th>\n",
       "      <th>Company</th>\n",
       "      <th>Minimum_Salary</th>\n",
       "      <th>Maximum_Salary</th>\n",
       "      <th>Average_Salary</th>\n",
       "      <th>Ratings</th>\n",
       "    </tr>\n",
       "  </thead>\n",
       "  <tbody>\n",
       "    <tr>\n",
       "      <th>0</th>\n",
       "      <td>Tata Consultancy Services</td>\n",
       "      <td>₹4L</td>\n",
       "      <td>₹13L</td>\n",
       "      <td>₹6,31,184 /yr</td>\n",
       "      <td>3.9</td>\n",
       "    </tr>\n",
       "    <tr>\n",
       "      <th>1</th>\n",
       "      <td>IBM</td>\n",
       "      <td>₹1L</td>\n",
       "      <td>₹28L</td>\n",
       "      <td>₹9,08,246 /yr</td>\n",
       "      <td>3.9</td>\n",
       "    </tr>\n",
       "    <tr>\n",
       "      <th>2</th>\n",
       "      <td>Accenture</td>\n",
       "      <td>₹6L</td>\n",
       "      <td>₹23L</td>\n",
       "      <td>₹12,13,338 /yr</td>\n",
       "      <td>4.1</td>\n",
       "    </tr>\n",
       "    <tr>\n",
       "      <th>3</th>\n",
       "      <td>Ericsson-Worldwide</td>\n",
       "      <td>₹4L</td>\n",
       "      <td>₹17L</td>\n",
       "      <td>₹7,61,766 /yr</td>\n",
       "      <td>4</td>\n",
       "    </tr>\n",
       "    <tr>\n",
       "      <th>4</th>\n",
       "      <td>Delhivery</td>\n",
       "      <td>₹5L</td>\n",
       "      <td>₹1Cr</td>\n",
       "      <td>₹12,49,716 /yr</td>\n",
       "      <td>3.7</td>\n",
       "    </tr>\n",
       "    <tr>\n",
       "      <th>5</th>\n",
       "      <td>UnitedHealth Group</td>\n",
       "      <td>₹8L</td>\n",
       "      <td>₹16L</td>\n",
       "      <td>₹12,80,000 /yr</td>\n",
       "      <td>3.7</td>\n",
       "    </tr>\n",
       "    <tr>\n",
       "      <th>6</th>\n",
       "      <td>EXL Service</td>\n",
       "      <td>₹6L</td>\n",
       "      <td>₹20L</td>\n",
       "      <td>₹12,42,519 /yr</td>\n",
       "      <td>3.6</td>\n",
       "    </tr>\n",
       "    <tr>\n",
       "      <th>7</th>\n",
       "      <td>Optum</td>\n",
       "      <td>₹8L</td>\n",
       "      <td>₹20L</td>\n",
       "      <td>₹12,70,000 /yr</td>\n",
       "      <td>3.7</td>\n",
       "    </tr>\n",
       "    <tr>\n",
       "      <th>8</th>\n",
       "      <td>ZS Associates</td>\n",
       "      <td>₹2L</td>\n",
       "      <td>₹22L</td>\n",
       "      <td>₹11,71,868 /yr</td>\n",
       "      <td>4</td>\n",
       "    </tr>\n",
       "    <tr>\n",
       "      <th>9</th>\n",
       "      <td>Optum Global Solutions</td>\n",
       "      <td>₹10L</td>\n",
       "      <td>₹18L</td>\n",
       "      <td>₹14,55,430 /yr</td>\n",
       "      <td>3.9</td>\n",
       "    </tr>\n",
       "  </tbody>\n",
       "</table>\n",
       "</div>"
      ],
      "text/plain": [
       "                     Company Minimum_Salary Maximum_Salary  Average_Salary  \\\n",
       "0  Tata Consultancy Services            ₹4L           ₹13L   ₹6,31,184 /yr   \n",
       "1                        IBM            ₹1L           ₹28L   ₹9,08,246 /yr   \n",
       "2                  Accenture            ₹6L           ₹23L  ₹12,13,338 /yr   \n",
       "3         Ericsson-Worldwide            ₹4L           ₹17L   ₹7,61,766 /yr   \n",
       "4                  Delhivery            ₹5L           ₹1Cr  ₹12,49,716 /yr   \n",
       "5         UnitedHealth Group            ₹8L           ₹16L  ₹12,80,000 /yr   \n",
       "6                EXL Service            ₹6L           ₹20L  ₹12,42,519 /yr   \n",
       "7                      Optum            ₹8L           ₹20L  ₹12,70,000 /yr   \n",
       "8              ZS Associates            ₹2L           ₹22L  ₹11,71,868 /yr   \n",
       "9     Optum Global Solutions           ₹10L           ₹18L  ₹14,55,430 /yr   \n",
       "\n",
       "  Ratings  \n",
       "0     3.9  \n",
       "1     3.9  \n",
       "2     4.1  \n",
       "3       4  \n",
       "4     3.7  \n",
       "5     3.7  \n",
       "6     3.6  \n",
       "7     3.7  \n",
       "8       4  \n",
       "9     3.9  "
      ]
     },
     "execution_count": 214,
     "metadata": {},
     "output_type": "execute_result"
    }
   ],
   "source": [
    "Jobs=pd.DataFrame({})\n",
    "Jobs['Company']=Company_name[0:10]\n",
    "Jobs['Minimum_Salary']=Min_salary[0:10]\n",
    "Jobs['Maximum_Salary']=Max_salary[0:10]\n",
    "Jobs['Average_Salary']=Average_salary[0:10]\n",
    "Jobs['Ratings']=Company_rating[0:10]\n",
    "Jobs"
   ]
  },
  {
   "cell_type": "markdown",
   "id": "47acd4f2",
   "metadata": {},
   "source": [
    "# 6. Scrape data of first 100 sunglasses listings on flipkart.com"
   ]
  },
  {
   "cell_type": "markdown",
   "id": "40dc77b3",
   "metadata": {},
   "source": [
    "Defining Web Driver"
   ]
  },
  {
   "cell_type": "code",
   "execution_count": 215,
   "id": "7c05aed4",
   "metadata": {},
   "outputs": [],
   "source": [
    "driver = webdriver.Chrome(r\"C:\\Users\\KUNAL\\Downloads\\chromedriver_win32\\chromedriver.exe\")"
   ]
  },
  {
   "cell_type": "markdown",
   "id": "87ebcc2b",
   "metadata": {},
   "source": [
    "Webpage used for Web Scraping"
   ]
  },
  {
   "cell_type": "code",
   "execution_count": 216,
   "id": "5e2e4d03",
   "metadata": {},
   "outputs": [],
   "source": [
    "driver.get('https://www.flipkart.com/')"
   ]
  },
  {
   "cell_type": "markdown",
   "id": "28974982",
   "metadata": {},
   "source": [
    "Finding element for Product and brand search bar"
   ]
  },
  {
   "cell_type": "code",
   "execution_count": 220,
   "id": "4c0e1ae0",
   "metadata": {},
   "outputs": [],
   "source": [
    "search_sunglass = driver.find_element_by_xpath(\"/html/body/div[1]/div/div[1]/div[1]/div[2]/div[2]/form/div/div/input\")\n",
    "search_sunglass.send_keys(\"Sun Glass\")"
   ]
  },
  {
   "cell_type": "code",
   "execution_count": 224,
   "id": "c8693801",
   "metadata": {},
   "outputs": [],
   "source": [
    "search_btn = driver.find_element_by_xpath(\"//button[@class='L0Z3Pu']\")\n",
    "search_btn.click()"
   ]
  },
  {
   "cell_type": "markdown",
   "id": "c99a0dbf",
   "metadata": {},
   "source": [
    "Specifying the URL of the Webpage to be Scraped"
   ]
  },
  {
   "cell_type": "code",
   "execution_count": 225,
   "id": "39cf5019",
   "metadata": {},
   "outputs": [],
   "source": [
    "url = \"https://www.flipkart.com/search?q=Sun%20Glass&otracker=search&otracker1=search&marketplace=FLIPKART&as-show=on&as=off\""
   ]
  },
  {
   "cell_type": "markdown",
   "id": "3c115a68",
   "metadata": {},
   "source": [
    "Opening Webpage through Web Driver"
   ]
  },
  {
   "cell_type": "code",
   "execution_count": 226,
   "id": "e9975398",
   "metadata": {},
   "outputs": [],
   "source": [
    "driver.get(url)"
   ]
  },
  {
   "cell_type": "markdown",
   "id": "31b7847b",
   "metadata": {},
   "source": [
    "Creating the 4 empty list in which data will be stored while scraping. The 4 empty list created for 4 features which is to be extracted.\n",
    "\n",
    "1.Brand 2.Description 3.Price 4.Discount"
   ]
  },
  {
   "cell_type": "code",
   "execution_count": 227,
   "id": "0642e657",
   "metadata": {},
   "outputs": [],
   "source": [
    "Brand=[]\n",
    "Description=[]\n",
    "Price=[]\n",
    "Discount=[]"
   ]
  },
  {
   "cell_type": "markdown",
   "id": "aee2acec",
   "metadata": {},
   "source": [
    "Extracting all the tags Having the Brand Name"
   ]
  },
  {
   "cell_type": "code",
   "execution_count": 228,
   "id": "e8b9fd59",
   "metadata": {},
   "outputs": [
    {
     "data": {
      "text/plain": [
       "[<selenium.webdriver.remote.webelement.WebElement (session=\"e5946f986f83824c69b57ce3d689b784\", element=\"efbd4a25-6c87-4d45-8f5a-fdd06ae2c2b3\")>,\n",
       " <selenium.webdriver.remote.webelement.WebElement (session=\"e5946f986f83824c69b57ce3d689b784\", element=\"fedc3ffc-676c-496f-a9d9-5b2468f8fa07\")>,\n",
       " <selenium.webdriver.remote.webelement.WebElement (session=\"e5946f986f83824c69b57ce3d689b784\", element=\"396e35d4-7513-4191-a3b1-e3615db9b4df\")>,\n",
       " <selenium.webdriver.remote.webelement.WebElement (session=\"e5946f986f83824c69b57ce3d689b784\", element=\"4db2a57f-7289-447a-9582-5e34333aeb02\")>,\n",
       " <selenium.webdriver.remote.webelement.WebElement (session=\"e5946f986f83824c69b57ce3d689b784\", element=\"60b7bd3c-f80b-49fd-90d0-9fd92285681c\")>]"
      ]
     },
     "execution_count": 228,
     "metadata": {},
     "output_type": "execute_result"
    }
   ],
   "source": [
    "brand_tags=driver.find_elements_by_xpath(\"//div[@class='_2WkVRV']\")\n",
    "brand_tags[0:5]"
   ]
  },
  {
   "cell_type": "markdown",
   "id": "2f20f497",
   "metadata": {},
   "source": [
    "Now running a loop to extract the text from the extracted tags"
   ]
  },
  {
   "cell_type": "code",
   "execution_count": 234,
   "id": "1e048cc0",
   "metadata": {},
   "outputs": [
    {
     "data": {
      "text/plain": [
       "['PIRASO', 'Rich Club', 'Fastrack', 'SHAAH COLLECTIONS', 'Fastrack']"
      ]
     },
     "execution_count": 234,
     "metadata": {},
     "output_type": "execute_result"
    }
   ],
   "source": [
    "brand1=[]\n",
    "for i in brand_tags:    \n",
    "    brand1.append(i.text)\n",
    "brand1[0:5]"
   ]
  },
  {
   "cell_type": "markdown",
   "id": "bcd0e6f8",
   "metadata": {},
   "source": [
    "Extracting all the tags Having the Product Description"
   ]
  },
  {
   "cell_type": "code",
   "execution_count": 236,
   "id": "1ab553b6",
   "metadata": {},
   "outputs": [
    {
     "data": {
      "text/plain": [
       "[<selenium.webdriver.remote.webelement.WebElement (session=\"e5946f986f83824c69b57ce3d689b784\", element=\"2261e433-fe1f-41b8-bd13-eef319b13bf0\")>,\n",
       " <selenium.webdriver.remote.webelement.WebElement (session=\"e5946f986f83824c69b57ce3d689b784\", element=\"b2c35a12-af33-41c1-b5aa-218269377293\")>,\n",
       " <selenium.webdriver.remote.webelement.WebElement (session=\"e5946f986f83824c69b57ce3d689b784\", element=\"09b76d0d-2c4f-4129-a5e6-0da4b630c842\")>,\n",
       " <selenium.webdriver.remote.webelement.WebElement (session=\"e5946f986f83824c69b57ce3d689b784\", element=\"bd871577-f113-4aba-8b2c-f04624cfd21d\")>,\n",
       " <selenium.webdriver.remote.webelement.WebElement (session=\"e5946f986f83824c69b57ce3d689b784\", element=\"3a4a310e-4554-4aca-b492-81366fdc89d7\")>]"
      ]
     },
     "execution_count": 236,
     "metadata": {},
     "output_type": "execute_result"
    }
   ],
   "source": [
    "desc_tags=driver.find_elements_by_xpath(\"//a[@class='IRpwTa']\")\n",
    "desc_tags[0:5]"
   ]
  },
  {
   "cell_type": "markdown",
   "id": "b38ebaba",
   "metadata": {},
   "source": [
    "Now running a loop to extract the text from the extracted tags"
   ]
  },
  {
   "cell_type": "code",
   "execution_count": 237,
   "id": "227e34b5",
   "metadata": {},
   "outputs": [
    {
     "data": {
      "text/plain": [
       "['UV Protection Aviator Sunglasses (54)',\n",
       " 'UV Protection, Others Round Sunglasses (48)',\n",
       " 'UV Protection Wayfarer Sunglasses (Free Size)',\n",
       " 'UV Protection, Polarized, Mirrored Rectangular Sunglass...',\n",
       " 'UV Protection Aviator Sunglasses (Free Size)']"
      ]
     },
     "execution_count": 237,
     "metadata": {},
     "output_type": "execute_result"
    }
   ],
   "source": [
    "desc1=[]\n",
    "for i in desc_tags:    \n",
    "    desc1.append(i.text)\n",
    "desc1[0:5]"
   ]
  },
  {
   "cell_type": "markdown",
   "id": "f22e56b2",
   "metadata": {},
   "source": [
    "Extracting all the tags Having Price of the Product"
   ]
  },
  {
   "cell_type": "code",
   "execution_count": 238,
   "id": "36d3329b",
   "metadata": {},
   "outputs": [
    {
     "data": {
      "text/plain": [
       "[<selenium.webdriver.remote.webelement.WebElement (session=\"e5946f986f83824c69b57ce3d689b784\", element=\"f24c83b6-162a-49d3-9507-99aa99dd909c\")>,\n",
       " <selenium.webdriver.remote.webelement.WebElement (session=\"e5946f986f83824c69b57ce3d689b784\", element=\"6217a57b-1ced-4e47-b8bd-f49a54b688e6\")>,\n",
       " <selenium.webdriver.remote.webelement.WebElement (session=\"e5946f986f83824c69b57ce3d689b784\", element=\"1b17a7e7-0d61-4848-ba37-8c845e7e79b6\")>,\n",
       " <selenium.webdriver.remote.webelement.WebElement (session=\"e5946f986f83824c69b57ce3d689b784\", element=\"1026f58b-df08-4b93-aee4-af40c1b70f35\")>,\n",
       " <selenium.webdriver.remote.webelement.WebElement (session=\"e5946f986f83824c69b57ce3d689b784\", element=\"b62670e6-78c3-4460-8ea1-aa16d255c179\")>]"
      ]
     },
     "execution_count": 238,
     "metadata": {},
     "output_type": "execute_result"
    }
   ],
   "source": [
    "price_tags=driver.find_elements_by_xpath(\"//div[@class='_30jeq3']\")\n",
    "price_tags[0:5]"
   ]
  },
  {
   "cell_type": "markdown",
   "id": "132528f4",
   "metadata": {},
   "source": [
    "Now running a loop to extract the text from the extracted tags"
   ]
  },
  {
   "cell_type": "code",
   "execution_count": 239,
   "id": "1d8d4105",
   "metadata": {},
   "outputs": [
    {
     "data": {
      "text/plain": [
       "['₹200', '₹299', '₹419', '₹198', '₹395']"
      ]
     },
     "execution_count": 239,
     "metadata": {},
     "output_type": "execute_result"
    }
   ],
   "source": [
    "price1=[]\n",
    "for i in price_tags[0:40]:\n",
    "    price1.append(i.text)\n",
    "price1[0:5]"
   ]
  },
  {
   "cell_type": "markdown",
   "id": "f051a49e",
   "metadata": {},
   "source": [
    "Extracting all the tags Having the Discount"
   ]
  },
  {
   "cell_type": "code",
   "execution_count": 241,
   "id": "bba2dc63",
   "metadata": {},
   "outputs": [
    {
     "data": {
      "text/plain": [
       "[<selenium.webdriver.remote.webelement.WebElement (session=\"e5946f986f83824c69b57ce3d689b784\", element=\"31d6c3f2-df1a-4f89-8d16-8c03e50cdac1\")>,\n",
       " <selenium.webdriver.remote.webelement.WebElement (session=\"e5946f986f83824c69b57ce3d689b784\", element=\"f40f5060-3d63-4f3e-a7b0-3ff2ad6ad418\")>,\n",
       " <selenium.webdriver.remote.webelement.WebElement (session=\"e5946f986f83824c69b57ce3d689b784\", element=\"1a77b5aa-ecfe-4f4c-9d38-93bfdbded72d\")>,\n",
       " <selenium.webdriver.remote.webelement.WebElement (session=\"e5946f986f83824c69b57ce3d689b784\", element=\"268bd80c-ce3a-42e1-a586-f562f0ea917b\")>,\n",
       " <selenium.webdriver.remote.webelement.WebElement (session=\"e5946f986f83824c69b57ce3d689b784\", element=\"23b7afb6-3a5d-4c9a-876d-1f2d056599fb\")>]"
      ]
     },
     "execution_count": 241,
     "metadata": {},
     "output_type": "execute_result"
    }
   ],
   "source": [
    "disc_tags=driver.find_elements_by_xpath(\"//div[@class='_3Ay6Sb']\")\n",
    "disc_tags[0:5]"
   ]
  },
  {
   "cell_type": "markdown",
   "id": "62f0855a",
   "metadata": {},
   "source": [
    "Now running a loop to extract the text from the extracted tags"
   ]
  },
  {
   "cell_type": "code",
   "execution_count": 242,
   "id": "a33d9392",
   "metadata": {},
   "outputs": [
    {
     "data": {
      "text/plain": [
       "['87% off', '62% off', '53% off', '88% off', '50% off']"
      ]
     },
     "execution_count": 242,
     "metadata": {},
     "output_type": "execute_result"
    }
   ],
   "source": [
    "disc1=[]\n",
    "for i in disc_tags[0:40]:\n",
    "    disc1.append(i.text)\n",
    "disc1[0:5]"
   ]
  },
  {
   "cell_type": "markdown",
   "id": "ce67061b",
   "metadata": {},
   "source": [
    "On first page we have details of 40 sunglasses. Now moving to the next page for more data"
   ]
  },
  {
   "cell_type": "code",
   "execution_count": 246,
   "id": "5159156d",
   "metadata": {},
   "outputs": [],
   "source": [
    "next_btn = driver.find_element_by_xpath(\"/html/body/div/div/div[3]/div[1]/div[2]/div[12]/div/div/nav/a[11]/span\")\n",
    "next_btn.click()"
   ]
  },
  {
   "cell_type": "markdown",
   "id": "21a7eb6c",
   "metadata": {},
   "source": [
    "Specifying the URL of the next(2nd) Webpage to be Scraped"
   ]
  },
  {
   "cell_type": "code",
   "execution_count": 247,
   "id": "6a9f762a",
   "metadata": {},
   "outputs": [],
   "source": [
    "url = \"https://www.flipkart.com/search?q=Sun+Glass&otracker=search&otracker1=search&marketplace=FLIPKART&as-show=on&as=off&page=2\""
   ]
  },
  {
   "cell_type": "markdown",
   "id": "187d79eb",
   "metadata": {},
   "source": [
    "Opening Webpage through Web Driver"
   ]
  },
  {
   "cell_type": "code",
   "execution_count": 248,
   "id": "6999d551",
   "metadata": {},
   "outputs": [],
   "source": [
    "driver.get(url)"
   ]
  },
  {
   "cell_type": "code",
   "execution_count": null,
   "id": "8447c4ee",
   "metadata": {},
   "outputs": [],
   "source": [
    "Extracting all the tags Having the Brand Name"
   ]
  },
  {
   "cell_type": "code",
   "execution_count": 249,
   "id": "b1fb339d",
   "metadata": {},
   "outputs": [
    {
     "data": {
      "text/plain": [
       "[<selenium.webdriver.remote.webelement.WebElement (session=\"e5946f986f83824c69b57ce3d689b784\", element=\"06b5cee3-363a-48de-8f67-0d091f29c333\")>,\n",
       " <selenium.webdriver.remote.webelement.WebElement (session=\"e5946f986f83824c69b57ce3d689b784\", element=\"6b2843de-aab1-4724-a135-f38d70ebe6c4\")>,\n",
       " <selenium.webdriver.remote.webelement.WebElement (session=\"e5946f986f83824c69b57ce3d689b784\", element=\"9fab99b8-b83a-4c8f-91b1-872d8ecf30a7\")>,\n",
       " <selenium.webdriver.remote.webelement.WebElement (session=\"e5946f986f83824c69b57ce3d689b784\", element=\"e8e5bd92-2177-4239-87ac-15cf1b27afa9\")>,\n",
       " <selenium.webdriver.remote.webelement.WebElement (session=\"e5946f986f83824c69b57ce3d689b784\", element=\"4c86553c-9444-439f-addd-877b0e6b60d8\")>]"
      ]
     },
     "execution_count": 249,
     "metadata": {},
     "output_type": "execute_result"
    }
   ],
   "source": [
    "brand_tags=driver.find_elements_by_xpath(\"//div[@class='_2WkVRV']\")\n",
    "brand_tags[0:5]"
   ]
  },
  {
   "cell_type": "markdown",
   "id": "b2f5341c",
   "metadata": {},
   "source": [
    "Now running a loop to extract the text from the extracted tags"
   ]
  },
  {
   "cell_type": "code",
   "execution_count": 250,
   "id": "db8f754e",
   "metadata": {},
   "outputs": [
    {
     "data": {
      "text/plain": [
       "['Silver Kartz', 'Elligator', 'IDEE', 'Fastrack', 'GANSTA']"
      ]
     },
     "execution_count": 250,
     "metadata": {},
     "output_type": "execute_result"
    }
   ],
   "source": [
    "brand2=[]\n",
    "for i in brand_tags:    \n",
    "    brand2.append(i.text)\n",
    "brand2[0:5]"
   ]
  },
  {
   "cell_type": "markdown",
   "id": "d11eaa95",
   "metadata": {},
   "source": [
    "Extracting all the tags Having the Product Description"
   ]
  },
  {
   "cell_type": "code",
   "execution_count": 251,
   "id": "5d25af87",
   "metadata": {},
   "outputs": [
    {
     "data": {
      "text/plain": [
       "[<selenium.webdriver.remote.webelement.WebElement (session=\"e5946f986f83824c69b57ce3d689b784\", element=\"97d05549-9af5-4e61-926d-8627edc73f41\")>,\n",
       " <selenium.webdriver.remote.webelement.WebElement (session=\"e5946f986f83824c69b57ce3d689b784\", element=\"ddc17046-f8b1-4642-9b21-12409528eadf\")>,\n",
       " <selenium.webdriver.remote.webelement.WebElement (session=\"e5946f986f83824c69b57ce3d689b784\", element=\"bca4433b-1b7f-442f-969b-952060e56c42\")>,\n",
       " <selenium.webdriver.remote.webelement.WebElement (session=\"e5946f986f83824c69b57ce3d689b784\", element=\"4d374224-64d5-4d78-a9ee-cd17ee0c0002\")>,\n",
       " <selenium.webdriver.remote.webelement.WebElement (session=\"e5946f986f83824c69b57ce3d689b784\", element=\"fbccedc8-d075-4d0f-826c-e18f5f49339b\")>]"
      ]
     },
     "execution_count": 251,
     "metadata": {},
     "output_type": "execute_result"
    }
   ],
   "source": [
    "desc_tags=driver.find_elements_by_xpath(\"//a[@class='IRpwTa']\")\n",
    "desc_tags[0:5]"
   ]
  },
  {
   "cell_type": "markdown",
   "id": "8b213994",
   "metadata": {},
   "source": [
    "Now running a loop to extract the text from the extracted tags"
   ]
  },
  {
   "cell_type": "code",
   "execution_count": 252,
   "id": "45dc55ab",
   "metadata": {},
   "outputs": [
    {
     "data": {
      "text/plain": [
       "['UV Protection Wayfarer Sunglasses (Free Size)',\n",
       " 'UV Protection Round Sunglasses (55)',\n",
       " 'UV Protection Wayfarer Sunglasses (50)',\n",
       " 'UV Protection Aviator Sunglasses (58)',\n",
       " 'UV Protection, Night Vision, Riding Glasses Aviator Sun...']"
      ]
     },
     "execution_count": 252,
     "metadata": {},
     "output_type": "execute_result"
    }
   ],
   "source": [
    "desc2=[]\n",
    "for i in desc_tags:    \n",
    "    desc2.append(i.text)\n",
    "desc2[0:5]"
   ]
  },
  {
   "cell_type": "markdown",
   "id": "2de236d9",
   "metadata": {},
   "source": [
    "Extracting all the tags Having Price of the Product"
   ]
  },
  {
   "cell_type": "code",
   "execution_count": 254,
   "id": "2d11fe8d",
   "metadata": {},
   "outputs": [
    {
     "data": {
      "text/plain": [
       "[<selenium.webdriver.remote.webelement.WebElement (session=\"e5946f986f83824c69b57ce3d689b784\", element=\"ababfa8f-cd3d-44c9-80b8-fb9083709a11\")>,\n",
       " <selenium.webdriver.remote.webelement.WebElement (session=\"e5946f986f83824c69b57ce3d689b784\", element=\"123e9270-98da-49f3-9e9b-9a5de0688715\")>,\n",
       " <selenium.webdriver.remote.webelement.WebElement (session=\"e5946f986f83824c69b57ce3d689b784\", element=\"212ffefc-bbb5-4a70-ba01-cadde000bc09\")>,\n",
       " <selenium.webdriver.remote.webelement.WebElement (session=\"e5946f986f83824c69b57ce3d689b784\", element=\"59464ac9-eb7b-420a-a721-a5538b0fe0ed\")>,\n",
       " <selenium.webdriver.remote.webelement.WebElement (session=\"e5946f986f83824c69b57ce3d689b784\", element=\"8ef71525-3bf1-4b6e-aa06-7160d199cd85\")>]"
      ]
     },
     "execution_count": 254,
     "metadata": {},
     "output_type": "execute_result"
    }
   ],
   "source": [
    "price_tags=driver.find_elements_by_xpath(\"//div[@class='_30jeq3']\")\n",
    "price_tags[0:5]"
   ]
  },
  {
   "cell_type": "markdown",
   "id": "9a842b9c",
   "metadata": {},
   "source": [
    "Now running a loop to extract the text from the extracted tags"
   ]
  },
  {
   "cell_type": "code",
   "execution_count": 255,
   "id": "cbda3da5",
   "metadata": {},
   "outputs": [
    {
     "data": {
      "text/plain": [
       "['₹207', '₹266', '₹799', '₹656', '₹248']"
      ]
     },
     "execution_count": 255,
     "metadata": {},
     "output_type": "execute_result"
    }
   ],
   "source": [
    "price2=[]\n",
    "for i in price_tags[0:40]:\n",
    "    price2.append(i.text)\n",
    "price2[0:5]"
   ]
  },
  {
   "cell_type": "markdown",
   "id": "2cafa3e9",
   "metadata": {},
   "source": [
    "Extracting all the tags Having the Discount"
   ]
  },
  {
   "cell_type": "code",
   "execution_count": 256,
   "id": "e71ded05",
   "metadata": {},
   "outputs": [
    {
     "data": {
      "text/plain": [
       "[<selenium.webdriver.remote.webelement.WebElement (session=\"e5946f986f83824c69b57ce3d689b784\", element=\"0c2998dd-699e-4e2a-bde4-7f3b1bbbc147\")>,\n",
       " <selenium.webdriver.remote.webelement.WebElement (session=\"e5946f986f83824c69b57ce3d689b784\", element=\"c97a1c12-dd95-40a5-828f-739997001751\")>,\n",
       " <selenium.webdriver.remote.webelement.WebElement (session=\"e5946f986f83824c69b57ce3d689b784\", element=\"2ebfdba0-fdeb-453e-8282-b3e6c8303fc9\")>,\n",
       " <selenium.webdriver.remote.webelement.WebElement (session=\"e5946f986f83824c69b57ce3d689b784\", element=\"9d1a2d07-1016-4270-b33d-c7311a1833e8\")>,\n",
       " <selenium.webdriver.remote.webelement.WebElement (session=\"e5946f986f83824c69b57ce3d689b784\", element=\"49f80f1b-5ad4-4a2f-85af-efd020c4f445\")>]"
      ]
     },
     "execution_count": 256,
     "metadata": {},
     "output_type": "execute_result"
    }
   ],
   "source": [
    "disc_tags=driver.find_elements_by_xpath(\"//div[@class='_3Ay6Sb']\")\n",
    "disc_tags[0:5]"
   ]
  },
  {
   "cell_type": "markdown",
   "id": "0129ae55",
   "metadata": {},
   "source": [
    "Now running a loop to extract the text from the extracted tags"
   ]
  },
  {
   "cell_type": "code",
   "execution_count": 274,
   "id": "50865504",
   "metadata": {},
   "outputs": [
    {
     "data": {
      "text/plain": [
       "['65% off', '60% off', '55% off', '49% off', '81% off']"
      ]
     },
     "execution_count": 274,
     "metadata": {},
     "output_type": "execute_result"
    }
   ],
   "source": [
    "disc2=[]\n",
    "for i in disc_tags[0:40]:\n",
    "    disc2.append(i.text)\n",
    "disc2[0:5]"
   ]
  },
  {
   "cell_type": "markdown",
   "id": "8198041e",
   "metadata": {},
   "source": [
    "Now moving to the next page for more data"
   ]
  },
  {
   "cell_type": "code",
   "execution_count": 259,
   "id": "d9c8a2c6",
   "metadata": {},
   "outputs": [],
   "source": [
    "next_btn = driver.find_element_by_xpath(\"/html/body/div/div/div[3]/div[1]/div[2]/div[12]/div/div/nav/a[12]/span\")\n",
    "next_btn.click()"
   ]
  },
  {
   "cell_type": "markdown",
   "id": "0408fd45",
   "metadata": {},
   "source": [
    "Specifying the URL of the next(3rd) Webpage to be Scraped"
   ]
  },
  {
   "cell_type": "code",
   "execution_count": 260,
   "id": "0556b8ba",
   "metadata": {},
   "outputs": [],
   "source": [
    "url =\"https://www.flipkart.com/search?q=Sun+Glass&otracker=search&otracker1=search&marketplace=FLIPKART&as-show=on&as=off&page=3\""
   ]
  },
  {
   "cell_type": "markdown",
   "id": "eac18b7d",
   "metadata": {},
   "source": [
    "Opening Webpage through Web Driver"
   ]
  },
  {
   "cell_type": "code",
   "execution_count": 261,
   "id": "6e3900b5",
   "metadata": {},
   "outputs": [],
   "source": [
    "driver.get(url)"
   ]
  },
  {
   "cell_type": "markdown",
   "id": "d566126a",
   "metadata": {},
   "source": [
    "Extracting all the tags Having the Brand Name"
   ]
  },
  {
   "cell_type": "code",
   "execution_count": 262,
   "id": "c10e697d",
   "metadata": {},
   "outputs": [
    {
     "data": {
      "text/plain": [
       "[<selenium.webdriver.remote.webelement.WebElement (session=\"e5946f986f83824c69b57ce3d689b784\", element=\"9e51a6fc-0550-44ed-be43-9d9d172c6808\")>,\n",
       " <selenium.webdriver.remote.webelement.WebElement (session=\"e5946f986f83824c69b57ce3d689b784\", element=\"5cb1ee40-3595-4cd7-8df9-b60f734b8554\")>,\n",
       " <selenium.webdriver.remote.webelement.WebElement (session=\"e5946f986f83824c69b57ce3d689b784\", element=\"3ab3386b-0867-403a-b331-806d35b11e29\")>,\n",
       " <selenium.webdriver.remote.webelement.WebElement (session=\"e5946f986f83824c69b57ce3d689b784\", element=\"545a5a22-75ec-48d7-b302-9389ff4b95c8\")>,\n",
       " <selenium.webdriver.remote.webelement.WebElement (session=\"e5946f986f83824c69b57ce3d689b784\", element=\"0741f63d-75aa-442a-a9e9-2babe4d4c664\")>]"
      ]
     },
     "execution_count": 262,
     "metadata": {},
     "output_type": "execute_result"
    }
   ],
   "source": [
    "brand_tags=driver.find_elements_by_xpath(\"//div[@class='_2WkVRV']\")\n",
    "brand_tags[0:5]"
   ]
  },
  {
   "cell_type": "markdown",
   "id": "b39980da",
   "metadata": {},
   "source": [
    "Now running a loop to extract the text from the extracted tags"
   ]
  },
  {
   "cell_type": "code",
   "execution_count": 267,
   "id": "a4823c2c",
   "metadata": {},
   "outputs": [
    {
     "data": {
      "text/plain": [
       "['povty', 'IDEE', 'Fastrack', 'Fastrack', 'Singco India']"
      ]
     },
     "execution_count": 267,
     "metadata": {},
     "output_type": "execute_result"
    }
   ],
   "source": [
    "brand3=[]\n",
    "for i in brand_tags:    \n",
    "    brand3.append(i.text)\n",
    "brand3[0:5]"
   ]
  },
  {
   "cell_type": "markdown",
   "id": "9f0d5b5f",
   "metadata": {},
   "source": [
    "Extracting all the tags Having the Product Description"
   ]
  },
  {
   "cell_type": "code",
   "execution_count": 265,
   "id": "806cac0f",
   "metadata": {},
   "outputs": [
    {
     "data": {
      "text/plain": [
       "[<selenium.webdriver.remote.webelement.WebElement (session=\"e5946f986f83824c69b57ce3d689b784\", element=\"a5d5ebbe-171a-4124-a537-91663e023395\")>,\n",
       " <selenium.webdriver.remote.webelement.WebElement (session=\"e5946f986f83824c69b57ce3d689b784\", element=\"e9a4d9a1-8c0c-424e-b7da-6976c1c72c6c\")>,\n",
       " <selenium.webdriver.remote.webelement.WebElement (session=\"e5946f986f83824c69b57ce3d689b784\", element=\"95b80913-62bf-4dad-9ed5-4e31d8e70db6\")>,\n",
       " <selenium.webdriver.remote.webelement.WebElement (session=\"e5946f986f83824c69b57ce3d689b784\", element=\"29b7fae4-a16c-45c6-8dd9-5dabec3e527c\")>,\n",
       " <selenium.webdriver.remote.webelement.WebElement (session=\"e5946f986f83824c69b57ce3d689b784\", element=\"99e64a14-e86d-409e-8ca5-ddec894cb898\")>]"
      ]
     },
     "execution_count": 265,
     "metadata": {},
     "output_type": "execute_result"
    }
   ],
   "source": [
    "desc_tags=driver.find_elements_by_xpath(\"//a[@class='IRpwTa']\")\n",
    "desc_tags[0:5]"
   ]
  },
  {
   "cell_type": "markdown",
   "id": "0f0a908a",
   "metadata": {},
   "source": [
    "Now running a loop to extract the text from the extracted tags"
   ]
  },
  {
   "cell_type": "code",
   "execution_count": 268,
   "id": "cc333cb0",
   "metadata": {},
   "outputs": [
    {
     "data": {
      "text/plain": [
       "['UV Protection Wayfarer Sunglasses (Free Size)',\n",
       " 'UV Protection Cat-eye Sunglasses (17)',\n",
       " 'UV Protection Aviator Sunglasses (Free Size)',\n",
       " 'UV Protection Aviator Sunglasses (58)',\n",
       " 'UV Protection Round Sunglasses (Free Size)']"
      ]
     },
     "execution_count": 268,
     "metadata": {},
     "output_type": "execute_result"
    }
   ],
   "source": [
    "desc3=[]\n",
    "for i in desc_tags:    \n",
    "    desc3.append(i.text)\n",
    "desc3[0:5]"
   ]
  },
  {
   "cell_type": "markdown",
   "id": "deec3e1c",
   "metadata": {},
   "source": [
    "Extracting all the tags Having Price of the Product"
   ]
  },
  {
   "cell_type": "code",
   "execution_count": 269,
   "id": "f34d7df0",
   "metadata": {},
   "outputs": [
    {
     "data": {
      "text/plain": [
       "[<selenium.webdriver.remote.webelement.WebElement (session=\"e5946f986f83824c69b57ce3d689b784\", element=\"c63e5be0-2362-4a4e-940d-91a2d6fc1ff7\")>,\n",
       " <selenium.webdriver.remote.webelement.WebElement (session=\"e5946f986f83824c69b57ce3d689b784\", element=\"b4ab3370-7214-4b70-abea-c268f38eefda\")>,\n",
       " <selenium.webdriver.remote.webelement.WebElement (session=\"e5946f986f83824c69b57ce3d689b784\", element=\"1b6d301f-143b-4f0e-a51e-55cc2bb5cbc0\")>,\n",
       " <selenium.webdriver.remote.webelement.WebElement (session=\"e5946f986f83824c69b57ce3d689b784\", element=\"940e8639-02c5-42a9-b86f-bc2e4467c4d3\")>,\n",
       " <selenium.webdriver.remote.webelement.WebElement (session=\"e5946f986f83824c69b57ce3d689b784\", element=\"ca5ae9e0-3181-42ce-b7b5-c31adb230122\")>]"
      ]
     },
     "execution_count": 269,
     "metadata": {},
     "output_type": "execute_result"
    }
   ],
   "source": [
    "price_tags=driver.find_elements_by_xpath(\"//div[@class='_30jeq3']\")\n",
    "price_tags[0:5]"
   ]
  },
  {
   "cell_type": "markdown",
   "id": "10ed9243",
   "metadata": {},
   "source": [
    "Now running a loop to extract the text from the extracted tags"
   ]
  },
  {
   "cell_type": "code",
   "execution_count": 272,
   "id": "ecd89800",
   "metadata": {},
   "outputs": [
    {
     "data": {
      "text/plain": [
       "['₹349', '₹889', '₹404', '₹656', '₹183']"
      ]
     },
     "execution_count": 272,
     "metadata": {},
     "output_type": "execute_result"
    }
   ],
   "source": [
    "price3=[]\n",
    "for i in price_tags[0:40]:\n",
    "    price3.append(i.text)\n",
    "price3[0:5]"
   ]
  },
  {
   "cell_type": "markdown",
   "id": "603f11e4",
   "metadata": {},
   "source": [
    "Extracting all the tags Having the Discount"
   ]
  },
  {
   "cell_type": "code",
   "execution_count": 273,
   "id": "11f021f2",
   "metadata": {},
   "outputs": [
    {
     "data": {
      "text/plain": [
       "[<selenium.webdriver.remote.webelement.WebElement (session=\"e5946f986f83824c69b57ce3d689b784\", element=\"dc9e66fb-9a55-4be1-b337-a921a95c4ce1\")>,\n",
       " <selenium.webdriver.remote.webelement.WebElement (session=\"e5946f986f83824c69b57ce3d689b784\", element=\"80acb17e-2987-4f82-be82-d2f2e06403a2\")>,\n",
       " <selenium.webdriver.remote.webelement.WebElement (session=\"e5946f986f83824c69b57ce3d689b784\", element=\"19b0d091-450a-4bba-b0fa-2bc8522dbe88\")>,\n",
       " <selenium.webdriver.remote.webelement.WebElement (session=\"e5946f986f83824c69b57ce3d689b784\", element=\"079c27f2-45ac-420b-abce-cbaa64468cfc\")>,\n",
       " <selenium.webdriver.remote.webelement.WebElement (session=\"e5946f986f83824c69b57ce3d689b784\", element=\"e5871eb7-dbc6-4588-a187-fac5ce18f52c\")>]"
      ]
     },
     "execution_count": 273,
     "metadata": {},
     "output_type": "execute_result"
    }
   ],
   "source": [
    "disc_tags=driver.find_elements_by_xpath(\"//div[@class='_3Ay6Sb']\")\n",
    "disc_tags[0:5]"
   ]
  },
  {
   "cell_type": "markdown",
   "id": "53ea3e2e",
   "metadata": {},
   "source": [
    "Now running a loop to extract the text from the extracted tags"
   ]
  },
  {
   "cell_type": "code",
   "execution_count": 275,
   "id": "839352aa",
   "metadata": {},
   "outputs": [
    {
     "data": {
      "text/plain": [
       "['65% off', '60% off', '55% off', '49% off', '81% off']"
      ]
     },
     "execution_count": 275,
     "metadata": {},
     "output_type": "execute_result"
    }
   ],
   "source": [
    "disc3=[]\n",
    "for i in disc_tags[0:40]:\n",
    "    disc3.append(i.text)\n",
    "disc3[0:5]"
   ]
  },
  {
   "cell_type": "markdown",
   "id": "488931ad",
   "metadata": {},
   "source": [
    "Now adding all the list to create Dataframe"
   ]
  },
  {
   "cell_type": "code",
   "execution_count": 279,
   "id": "cefffe70",
   "metadata": {},
   "outputs": [],
   "source": [
    "Brand = brand1 + brand2 + brand3\n",
    "Description = desc1 + desc2 + desc3\n",
    "Price = price1 + price2 + price3\n",
    "Discount = disc1 + disc2 + disc3"
   ]
  },
  {
   "cell_type": "markdown",
   "id": "7e341acc",
   "metadata": {},
   "source": [
    "Now creating Dataframe using extracted data from webpage"
   ]
  },
  {
   "cell_type": "code",
   "execution_count": 280,
   "id": "65ebddb1",
   "metadata": {},
   "outputs": [
    {
     "data": {
      "text/html": [
       "<div>\n",
       "<style scoped>\n",
       "    .dataframe tbody tr th:only-of-type {\n",
       "        vertical-align: middle;\n",
       "    }\n",
       "\n",
       "    .dataframe tbody tr th {\n",
       "        vertical-align: top;\n",
       "    }\n",
       "\n",
       "    .dataframe thead th {\n",
       "        text-align: right;\n",
       "    }\n",
       "</style>\n",
       "<table border=\"1\" class=\"dataframe\">\n",
       "  <thead>\n",
       "    <tr style=\"text-align: right;\">\n",
       "      <th></th>\n",
       "      <th>Brand</th>\n",
       "      <th>Description</th>\n",
       "      <th>Price</th>\n",
       "      <th>Discount</th>\n",
       "    </tr>\n",
       "  </thead>\n",
       "  <tbody>\n",
       "    <tr>\n",
       "      <th>0</th>\n",
       "      <td>PIRASO</td>\n",
       "      <td>UV Protection Aviator Sunglasses (54)</td>\n",
       "      <td>₹200</td>\n",
       "      <td>86% off</td>\n",
       "    </tr>\n",
       "    <tr>\n",
       "      <th>1</th>\n",
       "      <td>Rich Club</td>\n",
       "      <td>UV Protection, Others Round Sunglasses (48)</td>\n",
       "      <td>₹299</td>\n",
       "      <td>86% off</td>\n",
       "    </tr>\n",
       "    <tr>\n",
       "      <th>2</th>\n",
       "      <td>Fastrack</td>\n",
       "      <td>UV Protection Wayfarer Sunglasses (Free Size)</td>\n",
       "      <td>₹419</td>\n",
       "      <td>61% off</td>\n",
       "    </tr>\n",
       "    <tr>\n",
       "      <th>3</th>\n",
       "      <td>SHAAH COLLECTIONS</td>\n",
       "      <td>UV Protection, Polarized, Mirrored Rectangular...</td>\n",
       "      <td>₹198</td>\n",
       "      <td>49% off</td>\n",
       "    </tr>\n",
       "    <tr>\n",
       "      <th>4</th>\n",
       "      <td>Fastrack</td>\n",
       "      <td>UV Protection Aviator Sunglasses (Free Size)</td>\n",
       "      <td>₹395</td>\n",
       "      <td>87% off</td>\n",
       "    </tr>\n",
       "    <tr>\n",
       "      <th>...</th>\n",
       "      <td>...</td>\n",
       "      <td>...</td>\n",
       "      <td>...</td>\n",
       "      <td>...</td>\n",
       "    </tr>\n",
       "    <tr>\n",
       "      <th>95</th>\n",
       "      <td>Fastrack</td>\n",
       "      <td>UV Protection Wayfarer Sunglasses (Free Size)</td>\n",
       "      <td>₹359</td>\n",
       "      <td>60% off</td>\n",
       "    </tr>\n",
       "    <tr>\n",
       "      <th>96</th>\n",
       "      <td>Fastrack</td>\n",
       "      <td>UV Protection Wayfarer Sunglasses (Free Size)</td>\n",
       "      <td>₹359</td>\n",
       "      <td>55% off</td>\n",
       "    </tr>\n",
       "    <tr>\n",
       "      <th>97</th>\n",
       "      <td>ROYAL SON</td>\n",
       "      <td>Mirrored Aviator Sunglasses (55)</td>\n",
       "      <td>₹319</td>\n",
       "      <td>78% off</td>\n",
       "    </tr>\n",
       "    <tr>\n",
       "      <th>98</th>\n",
       "      <td>Fastrack</td>\n",
       "      <td>UV Protection Sports Sunglasses (Free Size)</td>\n",
       "      <td>₹449</td>\n",
       "      <td>50% off</td>\n",
       "    </tr>\n",
       "    <tr>\n",
       "      <th>99</th>\n",
       "      <td>PIRASO</td>\n",
       "      <td>UV Protection Aviator Sunglasses (54)</td>\n",
       "      <td>₹200</td>\n",
       "      <td>87% off</td>\n",
       "    </tr>\n",
       "  </tbody>\n",
       "</table>\n",
       "<p>100 rows × 4 columns</p>\n",
       "</div>"
      ],
      "text/plain": [
       "                Brand                                        Description  \\\n",
       "0              PIRASO              UV Protection Aviator Sunglasses (54)   \n",
       "1           Rich Club        UV Protection, Others Round Sunglasses (48)   \n",
       "2            Fastrack      UV Protection Wayfarer Sunglasses (Free Size)   \n",
       "3   SHAAH COLLECTIONS  UV Protection, Polarized, Mirrored Rectangular...   \n",
       "4            Fastrack       UV Protection Aviator Sunglasses (Free Size)   \n",
       "..                ...                                                ...   \n",
       "95           Fastrack      UV Protection Wayfarer Sunglasses (Free Size)   \n",
       "96           Fastrack      UV Protection Wayfarer Sunglasses (Free Size)   \n",
       "97          ROYAL SON                   Mirrored Aviator Sunglasses (55)   \n",
       "98           Fastrack        UV Protection Sports Sunglasses (Free Size)   \n",
       "99             PIRASO              UV Protection Aviator Sunglasses (54)   \n",
       "\n",
       "   Price Discount  \n",
       "0   ₹200  86% off  \n",
       "1   ₹299  86% off  \n",
       "2   ₹419  61% off  \n",
       "3   ₹198  49% off  \n",
       "4   ₹395  87% off  \n",
       "..   ...      ...  \n",
       "95  ₹359  60% off  \n",
       "96  ₹359  55% off  \n",
       "97  ₹319  78% off  \n",
       "98  ₹449  50% off  \n",
       "99  ₹200  87% off  \n",
       "\n",
       "[100 rows x 4 columns]"
      ]
     },
     "execution_count": 280,
     "metadata": {},
     "output_type": "execute_result"
    }
   ],
   "source": [
    "Sunglass=pd.DataFrame({})\n",
    "Sunglass['Brand']=Brand[0:100]\n",
    "Sunglass['Description']=Description[0:100]\n",
    "Sunglass['Price']=Price[0:100]\n",
    "Sunglass['Discount']=Discount[0:100]\n",
    "Sunglass"
   ]
  }
 ],
 "metadata": {
  "kernelspec": {
   "display_name": "Python 3",
   "language": "python",
   "name": "python3"
  },
  "language_info": {
   "codemirror_mode": {
    "name": "ipython",
    "version": 3
   },
   "file_extension": ".py",
   "mimetype": "text/x-python",
   "name": "python",
   "nbconvert_exporter": "python",
   "pygments_lexer": "ipython3",
   "version": "3.8.8"
  }
 },
 "nbformat": 4,
 "nbformat_minor": 5
}
